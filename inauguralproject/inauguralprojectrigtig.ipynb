{
 "cells": [
  {
   "cell_type": "markdown",
   "metadata": {},
   "source": [
    "# Inaugural Project"
   ]
  },
  {
   "cell_type": "markdown",
   "metadata": {},
   "source": [
    "> **Note the following:** \n",
    "> 1. This is an example of how to structure your **inaugural project**.\n",
    "> 1. Remember the general advice on structuring and commenting your code from [lecture 5](https://numeconcopenhagen.netlify.com/lectures/Workflow_and_debugging).\n",
    "> 1. Remember this [guide](https://www.markdownguide.org/basic-syntax/) on markdown and (a bit of) latex.\n",
    "> 1. Turn on automatic numbering by clicking on the small icon on top of the table of contents in the left sidebar.\n",
    "> 1. The `inauguralproject.py` file includes a function which can be used multiple times in this notebook."
   ]
  },
  {
   "cell_type": "markdown",
   "metadata": {},
   "source": [
    "Imports and set magics:"
   ]
  },
  {
   "cell_type": "markdown",
   "metadata": {},
   "source": [
    "import numpy as np\n",
    "from scipy import optimize\n",
    "from matplotlib import pyplot as plt\n",
    "\n",
    "\n",
    "# autoreload modules when code is run\n",
    "%load_ext autoreload\n",
    "%autoreload 2\n",
    "\n",
    "# local modules\n",
    "import inauguralproject"
   ]
  },
  {
   "cell_type": "markdown",
   "metadata": {
    "toc-hr-collapsed": true
   },
   "source": [
    "# Question 1"
   ]
  },
  {
   "cell_type": "markdown",
   "metadata": {},
   "source": [
    "BRIEFLY EXPLAIN HOW YOU SOLVE THE MODEL."
   ]
  },
  {
   "cell_type": "code",
   "execution_count": 49,
   "metadata": {},
   "outputs": [
    {
     "name": "stdout",
     "output_type": "stream",
     "text": "The optimal units of labor is: 0.31961536193545265\nThe optimal units of consumption is: 1.119903840483863\nThe maximum utility is: 0.09677772523865749\n"
    }
   ],
   "source": [
    "# code for solving the model (remember documentation and comments)\n",
    "\n",
    "# %%\n",
    "# parameter values as given\n",
    "m = 1   \n",
    "v = 10\n",
    "epsilon = 0.3\n",
    "tau_0 = 0.4\n",
    "tau_1 = 0.1 \n",
    "k = 0.4\n",
    "\n",
    "#utility function \n",
    "def utility(c,v,l,epsilon):\n",
    "    u_out = np.log(c) - v* (l**(1+1/epsilon)/(1+1/epsilon))\n",
    "    return u_out\n",
    "\n",
    "#budget constraint\n",
    "def budget_constraint(m,w,l,tau_0,tau_1,k):\n",
    "    b_out = m+ (w*l) - (tau_0*w*l  +tau_1*np.max(w*l-k , 0))\n",
    "    return b_out\n",
    "\n",
    "# equilibrium\n",
    "def equilibrium(l, w, epsilon, v, tau_0, tau_1, k):\n",
    "    c = budget_constraint(m,w,l,tau_0,tau_1,k)\n",
    "    return -utility(c,v,l,epsilon)\n",
    "\n",
    "\n",
    "\n",
    "# call solver\n",
    "def solve(w, epsilon, v, tau_0, tau_1, k, m): \n",
    "    solution = optimize.minimize_scalar(\n",
    "    equilibrium,  method='bounded',\n",
    "    bounds=(0, 1), args=(w,epsilon, v, tau_0,tau_1,k))\n",
    "\n",
    "    # solution\n",
    "    l_star = solution.x\n",
    "    c_star = budget_constraint(m, w, l_star,tau_0,tau_1,k)\n",
    "    u_star = utility(c_star,v,l_star,epsilon)\n",
    "    return l_star,c_star,u_star\n",
    "\n",
    "l_star = solve(0.5, epsilon, v , tau_0, tau_1, k, m)[0]\n",
    "\n",
    "c_star = solve(0.5, epsilon, v , tau_0, tau_1, k, m)[1]    \n",
    "\n",
    "u_star = solve(0.5, epsilon, v , tau_0, tau_1, k, m)[2]        \n",
    "\n",
    "\n",
    "print(\"The optimal units of labor is: \" + str(l_star))\n",
    "print(\"The optimal units of consumption is: \" + str(c_star))\n",
    "print(\"The maximum utility is: \" + str(u_star))"
   ]
  },
  {
   "cell_type": "markdown",
   "metadata": {},
   "source": [
    "# Question 2"
   ]
  },
  {
   "cell_type": "markdown",
   "metadata": {},
   "source": [
    "ADD ANSWER."
   ]
  },
  {
   "cell_type": "code",
   "execution_count": 51,
   "metadata": {},
   "outputs": [
    {
     "data": {
      "application/vnd.jupyter.widget-view+json": {
       "model_id": "53ac89fca3d845d388406f4b596df1f2",
       "version_major": 2,
       "version_minor": 0
      },
      "text/plain": "Canvas(toolbar=Toolbar(toolitems=[('Home', 'Reset original view', 'home', 'home'), ('Back', 'Back to previous …"
     },
     "metadata": {},
     "output_type": "display_data"
    },
    {
     "name": "stdout",
     "output_type": "stream",
     "text": "<function show at 0x000001C426495EE8>\n"
    }
   ],
   "source": [
    "import matplotlib.pyplot as plt\n",
    "plt.style.use(\"seaborn\")\n",
    "\n",
    "# set of vector values\n",
    "N = 10000\n",
    "wage_range = np.linspace(0.5, 1.5, N)\n",
    "labour_range = np.empty(N)\n",
    "consumption_range = np.empty(N)\n",
    "\n",
    "# plot definition\n",
    "for i, w in enumerate(wage_range):\n",
    "    sol = solve(w, epsilon, v, tau_0, tau_1, k, m)\n",
    "    labour_range[i] = sol[0]\n",
    "    consumption_range[i] = sol[1]\n",
    "\n",
    "\n",
    "figure = plt.figure(figsize=(10,4))\n",
    "\n",
    "\n",
    "# left plot\n",
    "ax_left = figure.add_subplot(1,2,1)\n",
    "ax_left.plot(wage_range, labour_range)\n",
    "\n",
    "ax_left.set_title(\"Optimal Labour\")\n",
    "ax_left.set_xlabel(\"Wage Rate\")\n",
    "ax_left.set_ylabel(\"Labour\")\n",
    "#  ax_left.set_ylim([0,1])\n",
    "#  ax_left.set_xlim([np.min(w),np.max(w)])\n",
    "ax_left.grid(True)\n",
    "# right plot\n",
    "ax_right = figure.add_subplot(1,2,2)\n",
    "ax_right.plot(wage_range, consumption_range)\n",
    "\n",
    "ax_right.set_title(\"Optimal Consumption\")\n",
    "ax_right.set_xlabel(\"Wage Rate\")\n",
    "ax_right.set_ylabel(\"Consumption\")\n",
    "## ax_right.set_ylim([1,2])\n",
    "## ax_right.set_xlim([np.min(w),np.max(w)])\n",
    "ax_right.grid(True)\n",
    "\n",
    "# call plot\n",
    "\n",
    "print(plt.show)\n"
   ]
  },
  {
   "cell_type": "markdown",
   "metadata": {},
   "source": [
    "# Question 3"
   ]
  },
  {
   "cell_type": "markdown",
   "metadata": {},
   "source": [
    "ADD ANSWER."
   ]
  },
  {
   "cell_type": "code",
   "execution_count": 53,
   "metadata": {},
   "outputs": [
    {
     "name": "stdout",
     "output_type": "stream",
     "text": "The total tax rate is =  1775.39\n"
    }
   ],
   "source": [
    "def total_tax(tau_0, wage_range, labour_range, tau_1, k):\n",
    "\n",
    "\n",
    "    total_tax_revenue = np.sum(tau_0 * wage_range * labour_range + tau_1*np.max (wage_range*labour_range-k,0))\n",
    "    return total_tax_revenue\n",
    "print(f'The total tax rate is =  {total_tax(tau_0, wage_range, labour_range, tau_1, k):.2f}')"
   ]
  },
  {
   "cell_type": "markdown",
   "metadata": {},
   "source": [
    "# Question 4"
   ]
  },
  {
   "cell_type": "markdown",
   "metadata": {},
   "source": [
    "ADD ANSWER."
   ]
  },
  {
   "cell_type": "code",
   "execution_count": 54,
   "metadata": {},
   "outputs": [
    {
     "name": "stdout",
     "output_type": "stream",
     "text": "The total tax rate is =  3578.90\nThe total tax rate is =  3578.90\n"
    }
   ],
   "source": [
    "labour_range_updated = np.empty(N)\n",
    "consumption_range_updated = np.empty(N)\n",
    "epsilon_updated = 0.1 \n",
    "for i, w in enumerate(wage_range):\n",
    "    sol = solve(w, epsilon_updated, v, tau_0, tau_1, k, m)\n",
    "    labour_range_updated[i] = sol[0]\n",
    "    consumption_range_updated[i] = sol[1]\n",
    "\n",
    "###total_tax_revenue_updated = np.sum(tau_0 * wage_range * labour_range_updated + tau_1*np.max(wage_range*labour_range_updated-k,0))\n",
    "####print(f'The total tax rate is =  {total_tax_revenue_updated:.2f}')  \n",
    "\n",
    "\n",
    "## \n",
    "print(f'The total tax rate is =  {total_tax(tau_0, wage_range, labour_range_updated, tau_1, k):.2f}')\n"
   ]
  },
  {
   "cell_type": "markdown",
   "metadata": {},
   "source": [
    "# Question 5"
   ]
  },
  {
   "cell_type": "markdown",
   "metadata": {},
   "source": [
    "ADD ANSWER."
   ]
  },
  {
   "cell_type": "code",
   "execution_count": 57,
   "metadata": {},
   "outputs": [],
   "source": [
    "\n",
    "def taxmax(vec):\n",
    "\n",
    "    tau_0 = vec[0]\n",
    "    tau_0 = vec[1]\n",
    "    k = vec[2]\n",
    "\n",
    "    return  -total_tax(tau_0, wage_range, labour_range, tau_1, k)\n"
   ]
  },
  {
   "cell_type": "markdown",
   "metadata": {},
   "source": [
    "# Conclusion"
   ]
  },
  {
   "cell_type": "markdown",
   "metadata": {},
   "source": [
    "ADD CONCISE CONLUSION."
   ]
  }
 ],
 "metadata": {
  "kernelspec": {
   "display_name": "Python 3",
   "language": "python",
   "name": "python3"
  },
  "language_info": {
   "codemirror_mode": {
    "name": "ipython",
    "version": 3
   },
   "file_extension": ".py",
   "mimetype": "text/x-python",
   "name": "python",
   "nbconvert_exporter": "python",
   "pygments_lexer": "ipython3",
   "version": "3.7.4-final"
  },
  "toc-autonumbering": true
 },
 "nbformat": 4,
 "nbformat_minor": 4
}