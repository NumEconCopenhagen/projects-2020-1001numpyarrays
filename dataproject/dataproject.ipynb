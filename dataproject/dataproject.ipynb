{
 "cells": [
  {
   "cell_type": "markdown",
   "source": [
    "# GDP and population"
   ],
   "metadata": {}
  },
  {
   "cell_type": "markdown",
   "source": [
    "In this project we wish to investigate the relationship between GDP per capita and the population size of a country. The literature distinguishes between population pessimist and population optimist. Population pessimist originates from Thomas Malthus, who argues that due land being a fixed factor, an increase in population would lead to shortage of food, clean water and energy. Population optimists argues that population growth can lead to economics of scale in production and infrastructure. Furthermore, it can induce technological change and lead to more entrepreneurs and creators, which can increase the total factor productivity in the economy."
   ],
   "metadata": {}
  },
  {
   "cell_type": "markdown",
   "source": [
    "Imports and set magics:"
   ],
   "metadata": {}
  },
  {
   "cell_type": "code",
   "execution_count": 30,
   "source": [
    "import pandas as pd\r\n",
    "import numpy as np\r\n",
    "import matplotlib.pyplot as plt\r\n",
    "import ipywidgets as widgets\r\n",
    "plt.style.use(\"seaborn\")\r\n",
    "import seaborn as sns\r\n",
    "\r\n",
    "\r\n",
    "# autoreload modules when code is run\r\n",
    "%load_ext autoreload\r\n",
    "%autoreload 2\r\n",
    "\r\n"
   ],
   "outputs": [
    {
     "output_type": "stream",
     "name": "stdout",
     "text": [
      "The autoreload extension is already loaded. To reload it, use:\n",
      "  %reload_ext autoreload\n"
     ]
    }
   ],
   "metadata": {}
  },
  {
   "cell_type": "markdown",
   "source": [
    "# Read and Clean Data"
   ],
   "metadata": {
    "toc-hr-collapsed": true
   }
  },
  {
   "cell_type": "markdown",
   "source": [
    "## GDP Data\n",
    "**Read the GDP data** in ``GDP per cap.xlsx`` and clean it:"
   ],
   "metadata": {}
  },
  {
   "cell_type": "code",
   "execution_count": 16,
   "source": [
    "# a. load\r\n",
    "GDP_per_capita = pd.read_excel('GDP per cap.xlsx', skiprows=1)\r\n",
    "\r\n",
    "# b. drop columns\r\n",
    "drop_these = ['Indicator', 'Units', 'Scale', 'Measurement', 'Source',\t'Seasonally adjusted',\t'Base year price',\t'Base year index',\t'Historical end year',\t'Historical end quarter',\t'Date of last update',\t'Source details',\t'Additional source details',\t'Indicator code',\r\n",
    "]\r\n",
    "GDP_per_capita.drop(drop_these, axis=1, inplace=True)\r\n",
    "\r\n",
    "# c. rename columns\r\n",
    "myDict = {}\r\n",
    "for i in range(1990, 2020+1): # range goes from 1990 to 2020\r\n",
    "    myDict[str(i)] = f'GDP{i}' \r\n",
    "GDP_per_capita.rename(columns = myDict, inplace=True)\r\n",
    "\r\n",
    "# d. drop na: Remove all rows which do not have GDP data in all periods.\r\n",
    "GDP_per_capita = GDP_per_capita.dropna()\r\n",
    "\r\n",
    "#e. drop Eurozone \r\n",
    "GDP_per_capita = GDP_per_capita[GDP_per_capita.Location != \"Eurozone\"]\r\n",
    "\r\n",
    "# f. convert dataset to long\r\n",
    "GDP_per_capita_long = pd.wide_to_long(GDP_per_capita, stubnames='GDP', i='Location', j='Year').reset_index()\r\n",
    "\r\n",
    "# g. show\r\n",
    "GDP_per_capita_long.head(5)\r\n"
   ],
   "outputs": [
    {
     "output_type": "execute_result",
     "data": {
      "text/html": [
       "<div>\n",
       "<style scoped>\n",
       "    .dataframe tbody tr th:only-of-type {\n",
       "        vertical-align: middle;\n",
       "    }\n",
       "\n",
       "    .dataframe tbody tr th {\n",
       "        vertical-align: top;\n",
       "    }\n",
       "\n",
       "    .dataframe thead th {\n",
       "        text-align: right;\n",
       "    }\n",
       "</style>\n",
       "<table border=\"1\" class=\"dataframe\">\n",
       "  <thead>\n",
       "    <tr style=\"text-align: right;\">\n",
       "      <th></th>\n",
       "      <th>Location</th>\n",
       "      <th>Year</th>\n",
       "      <th>Location code</th>\n",
       "      <th>GDP</th>\n",
       "    </tr>\n",
       "  </thead>\n",
       "  <tbody>\n",
       "    <tr>\n",
       "      <th>0</th>\n",
       "      <td>Algeria</td>\n",
       "      <td>1990</td>\n",
       "      <td>DZA</td>\n",
       "      <td>3124.000</td>\n",
       "    </tr>\n",
       "    <tr>\n",
       "      <th>1</th>\n",
       "      <td>Angola</td>\n",
       "      <td>1990</td>\n",
       "      <td>AGO</td>\n",
       "      <td>2985.760</td>\n",
       "    </tr>\n",
       "    <tr>\n",
       "      <th>2</th>\n",
       "      <td>Bahrain</td>\n",
       "      <td>1990</td>\n",
       "      <td>BHR</td>\n",
       "      <td>19243.900</td>\n",
       "    </tr>\n",
       "    <tr>\n",
       "      <th>3</th>\n",
       "      <td>Benin</td>\n",
       "      <td>1990</td>\n",
       "      <td>BEN</td>\n",
       "      <td>577.263</td>\n",
       "    </tr>\n",
       "    <tr>\n",
       "      <th>4</th>\n",
       "      <td>Botswana</td>\n",
       "      <td>1990</td>\n",
       "      <td>BWA</td>\n",
       "      <td>3681.990</td>\n",
       "    </tr>\n",
       "  </tbody>\n",
       "</table>\n",
       "</div>"
      ],
      "text/plain": [
       "   Location  Year Location code        GDP\n",
       "0   Algeria  1990           DZA   3124.000\n",
       "1    Angola  1990           AGO   2985.760\n",
       "2   Bahrain  1990           BHR  19243.900\n",
       "3     Benin  1990           BEN    577.263\n",
       "4  Botswana  1990           BWA   3681.990"
      ]
     },
     "metadata": {},
     "execution_count": 16
    }
   ],
   "metadata": {}
  },
  {
   "cell_type": "markdown",
   "source": [
    "## Population Data\n",
    "**Read the income data** in ``POP.xlsx`` and **clean it**:"
   ],
   "metadata": {}
  },
  {
   "cell_type": "code",
   "execution_count": 17,
   "source": [
    "# a. load\r\n",
    "pop = pd.read_excel('POP.xlsx', skiprows=1)\r\n",
    "\r\n",
    "\r\n",
    "# b. drop columns\r\n",
    "drop_these = ['Indicator', 'Units', 'Scale', 'Measurement', 'Source',\t'Seasonally adjusted',\t'Base year price',\t'Base year index',\t'Historical end year',\t'Historical end quarter',\t'Date of last update',\t'Source details',\t'Additional source details',\t'Indicator code']\r\n",
    "pop.drop(drop_these, axis=1, inplace=True)\r\n",
    "\r\n",
    "# c. rename columns\r\n",
    "myDict_pop = {}\r\n",
    "for i in range(1990, 2020+1): # range goes from 1990 to 2020\r\n",
    "    myDict_pop[str(i)] = f'pop{i}' \r\n",
    "pop.rename(columns = myDict_pop, inplace=True)\r\n",
    "pop.head(10)\r\n",
    "\r\n",
    "# d. drop na\r\n",
    "pop = pop.dropna()\r\n",
    "\r\n",
    "#e. drop Eurozone \r\n",
    "pop = pop[pop.Location != \"Eurozone\"]\r\n",
    "\r\n",
    "# f. convert to long\r\n",
    "pop_long = pd.wide_to_long(pop, stubnames='pop', i='Location', j='Year').reset_index()\r\n",
    "\r\n",
    "# g. show\r\n",
    "pop_long.head(5)"
   ],
   "outputs": [
    {
     "output_type": "execute_result",
     "data": {
      "text/html": [
       "<div>\n",
       "<style scoped>\n",
       "    .dataframe tbody tr th:only-of-type {\n",
       "        vertical-align: middle;\n",
       "    }\n",
       "\n",
       "    .dataframe tbody tr th {\n",
       "        vertical-align: top;\n",
       "    }\n",
       "\n",
       "    .dataframe thead th {\n",
       "        text-align: right;\n",
       "    }\n",
       "</style>\n",
       "<table border=\"1\" class=\"dataframe\">\n",
       "  <thead>\n",
       "    <tr style=\"text-align: right;\">\n",
       "      <th></th>\n",
       "      <th>Location</th>\n",
       "      <th>Year</th>\n",
       "      <th>Location code</th>\n",
       "      <th>pop</th>\n",
       "    </tr>\n",
       "  </thead>\n",
       "  <tbody>\n",
       "    <tr>\n",
       "      <th>0</th>\n",
       "      <td>Algeria</td>\n",
       "      <td>1990</td>\n",
       "      <td>DZA</td>\n",
       "      <td>25758.900</td>\n",
       "    </tr>\n",
       "    <tr>\n",
       "      <th>1</th>\n",
       "      <td>Angola</td>\n",
       "      <td>1990</td>\n",
       "      <td>AGO</td>\n",
       "      <td>11848.400</td>\n",
       "    </tr>\n",
       "    <tr>\n",
       "      <th>2</th>\n",
       "      <td>Bahrain</td>\n",
       "      <td>1990</td>\n",
       "      <td>BHR</td>\n",
       "      <td>468.165</td>\n",
       "    </tr>\n",
       "    <tr>\n",
       "      <th>3</th>\n",
       "      <td>Benin</td>\n",
       "      <td>1990</td>\n",
       "      <td>BEN</td>\n",
       "      <td>4978.490</td>\n",
       "    </tr>\n",
       "    <tr>\n",
       "      <th>4</th>\n",
       "      <td>Botswana</td>\n",
       "      <td>1990</td>\n",
       "      <td>BWA</td>\n",
       "      <td>1286.760</td>\n",
       "    </tr>\n",
       "  </tbody>\n",
       "</table>\n",
       "</div>"
      ],
      "text/plain": [
       "   Location  Year Location code        pop\n",
       "0   Algeria  1990           DZA  25758.900\n",
       "1    Angola  1990           AGO  11848.400\n",
       "2   Bahrain  1990           BHR    468.165\n",
       "3     Benin  1990           BEN   4978.490\n",
       "4  Botswana  1990           BWA   1286.760"
      ]
     },
     "metadata": {},
     "execution_count": 17
    }
   ],
   "metadata": {}
  },
  {
   "cell_type": "markdown",
   "source": [
    "# Explore Data Set\n",
    "In order to be able to explore the data, we here provide two **interactive plots** to show the GDP per capita and the population in each country, respectively."
   ],
   "metadata": {}
  },
  {
   "cell_type": "code",
   "execution_count": 19,
   "source": [
    "def plot_GDP(df, Location,Location2):\r\n",
    "    fig = plt.figure(figsize=(10,4))\r\n",
    "    ax = fig.add_subplot(1,1,1)\r\n",
    "\r\n",
    "    I = df['Location'] == Location\r\n",
    "    I2 = df['Location'] == Location2\r\n",
    "\r\n",
    "    ax.plot(df.loc[I,:]['Year'],df.loc[I,:]['GDP'])\r\n",
    "    ax.plot(df.loc[I2,:]['Year'],df.loc[I2,:]['GDP'])\r\n",
    "\r\n",
    "    ax.set_ylabel('USD')\r\n",
    "    ax.set_xlabel('Year')\r\n",
    "    ax.legend(['GDP per capita '+ str(Location),'GDP per capita '+ str(Location2)])\r\n",
    "\r\n",
    "\r\n",
    "widgets.interact(plot_GDP,\r\n",
    "df = widgets.fixed(GDP_per_capita_long),\r\n",
    "Location = widgets.Dropdown(description='Location1',\r\n",
    "options=GDP_per_capita_long.Location.unique(),\r\n",
    "value='Denmark', ),\r\n",
    "Location2 = widgets.Dropdown(description='Location2',\r\n",
    "options=GDP_per_capita_long.Location.unique(),\r\n",
    "value='Sweden', )\r\n",
    "\r\n",
    ");"
   ],
   "outputs": [
    {
     "output_type": "display_data",
     "data": {
      "application/vnd.jupyter.widget-view+json": {
       "version_major": 2,
       "version_minor": 0,
       "model_id": "32d779d674c143ea9514aa1e117e096a"
      },
      "text/plain": [
       "interactive(children=(Dropdown(description='Location1', index=154, options=('Algeria', 'Angola', 'Bahrain', 'B…"
      ]
     },
     "metadata": {}
    },
    {
     "output_type": "display_data",
     "data": {
      "image/png": "[encoded data removed]",
      "text/plain": [
       "<Figure size 720x288 with 1 Axes>"
      ]
     },
     "metadata": {}
    }
   ],
   "metadata": {}
  },
  {
   "cell_type": "code",
   "execution_count": 20,
   "source": [
    "def plot_pop(df, Location,Location2):\r\n",
    "    fig = plt.figure(figsize=(10,4))\r\n",
    "    ax = fig.add_subplot(1,1,1)\r\n",
    "\r\n",
    "    I = df['Location'] == Location\r\n",
    "    I2 = df['Location'] == Location2\r\n",
    "\r\n",
    "    ax.plot(df.loc[I,:]['Year'],df.loc[I,:]['pop'])\r\n",
    "    ax.plot(df.loc[I2,:]['Year'],df.loc[I2,:]['pop'])\r\n",
    "\r\n",
    "    ax.set_ylabel('Population in thousands')\r\n",
    "    ax.set_xlabel('Year')\r\n",
    "    ax.legend(['Population '+ str(Location),'Population '+ str(Location2)])\r\n",
    "\r\n",
    "\r\n",
    "widgets.interact(plot_pop,\r\n",
    "df = widgets.fixed(pop_long),\r\n",
    "Location = widgets.Dropdown(description='Location1',\r\n",
    "options=pop_long.Location.unique(),\r\n",
    "value='Denmark', ),\r\n",
    "Location2 = widgets.Dropdown(description='Location2',\r\n",
    "options=pop_long.Location.unique(),\r\n",
    "value='Sweden', )\r\n",
    "\r\n",
    ");"
   ],
   "outputs": [
    {
     "output_type": "display_data",
     "data": {
      "application/vnd.jupyter.widget-view+json": {
       "version_major": 2,
       "version_minor": 0,
       "model_id": "998a74d913a8471da77c4dee1bf1e2fd"
      },
      "text/plain": [
       "interactive(children=(Dropdown(description='Location1', index=159, options=('Algeria', 'Angola', 'Bahrain', 'B…"
      ]
     },
     "metadata": {}
    },
    {
     "output_type": "display_data",
     "data": {
      "image/png": "[encoded data removed]",
      "text/plain": [
       "<Figure size 720x288 with 1 Axes>"
      ]
     },
     "metadata": {}
    }
   ],
   "metadata": {}
  },
  {
   "cell_type": "markdown",
   "source": [
    "# Merge Data Sets"
   ],
   "metadata": {}
  },
  {
   "cell_type": "code",
   "execution_count": 21,
   "source": [
    "GDP_pop = pd.merge(GDP_per_capita_long, pop_long, how='inner',on=['Location code', 'Year'])\r\n",
    "drop_duplicate_location = ['Location_y']\r\n",
    "GDP_pop.drop(drop_duplicate_location, axis=1, inplace=True)\r\n",
    "GDP_pop.rename(columns = {'Location_x':'Location'}, inplace=True)\r\n",
    "GDP_pop.head(5)"
   ],
   "outputs": [
    {
     "output_type": "execute_result",
     "data": {
      "text/html": [
       "<div>\n",
       "<style scoped>\n",
       "    .dataframe tbody tr th:only-of-type {\n",
       "        vertical-align: middle;\n",
       "    }\n",
       "\n",
       "    .dataframe tbody tr th {\n",
       "        vertical-align: top;\n",
       "    }\n",
       "\n",
       "    .dataframe thead th {\n",
       "        text-align: right;\n",
       "    }\n",
       "</style>\n",
       "<table border=\"1\" class=\"dataframe\">\n",
       "  <thead>\n",
       "    <tr style=\"text-align: right;\">\n",
       "      <th></th>\n",
       "      <th>Location</th>\n",
       "      <th>Year</th>\n",
       "      <th>Location code</th>\n",
       "      <th>GDP</th>\n",
       "      <th>pop</th>\n",
       "    </tr>\n",
       "  </thead>\n",
       "  <tbody>\n",
       "    <tr>\n",
       "      <th>0</th>\n",
       "      <td>Algeria</td>\n",
       "      <td>1990</td>\n",
       "      <td>DZA</td>\n",
       "      <td>3124.000</td>\n",
       "      <td>25758.900</td>\n",
       "    </tr>\n",
       "    <tr>\n",
       "      <th>1</th>\n",
       "      <td>Angola</td>\n",
       "      <td>1990</td>\n",
       "      <td>AGO</td>\n",
       "      <td>2985.760</td>\n",
       "      <td>11848.400</td>\n",
       "    </tr>\n",
       "    <tr>\n",
       "      <th>2</th>\n",
       "      <td>Bahrain</td>\n",
       "      <td>1990</td>\n",
       "      <td>BHR</td>\n",
       "      <td>19243.900</td>\n",
       "      <td>468.165</td>\n",
       "    </tr>\n",
       "    <tr>\n",
       "      <th>3</th>\n",
       "      <td>Benin</td>\n",
       "      <td>1990</td>\n",
       "      <td>BEN</td>\n",
       "      <td>577.263</td>\n",
       "      <td>4978.490</td>\n",
       "    </tr>\n",
       "    <tr>\n",
       "      <th>4</th>\n",
       "      <td>Botswana</td>\n",
       "      <td>1990</td>\n",
       "      <td>BWA</td>\n",
       "      <td>3681.990</td>\n",
       "      <td>1286.760</td>\n",
       "    </tr>\n",
       "  </tbody>\n",
       "</table>\n",
       "</div>"
      ],
      "text/plain": [
       "   Location  Year Location code        GDP        pop\n",
       "0   Algeria  1990           DZA   3124.000  25758.900\n",
       "1    Angola  1990           AGO   2985.760  11848.400\n",
       "2   Bahrain  1990           BHR  19243.900    468.165\n",
       "3     Benin  1990           BEN    577.263   4978.490\n",
       "4  Botswana  1990           BWA   3681.990   1286.760"
      ]
     },
     "metadata": {},
     "execution_count": 21
    }
   ],
   "metadata": {}
  },
  {
   "cell_type": "code",
   "execution_count": 22,
   "source": [
    "# We sort the data by left joining our data set on the data subset of 2019. This ensures the desired order of the data. \r\n",
    "GDP_pop_start = GDP_pop[(GDP_pop.Year == 2019)]\r\n",
    "GDP_pop_1 = pd.merge(GDP_pop_start, GDP_pop, how='left',on=['Location code'])\r\n",
    "drop_these = ['Year_x', 'GDP_x', 'pop_x', 'Location_y']\r\n",
    "rename_these = {'Location_x':'Location', 'Location code': 'Location_code', 'Year_y':'year', 'GDP_y':'GDP', 'pop_y':'pop'}\r\n",
    "GDP_pop_1.drop(drop_these, axis=1, inplace=True)\r\n",
    "GDP_pop_1.rename(columns = rename_these, inplace=True)\r\n",
    "GDP_pop_1.head(100)\r\n",
    "\r\n",
    "# Take logs of GDP\r\n",
    "GDP_pop_1['log_GDP'] =  np.log(GDP_pop_1['GDP'])\r\n",
    "\r\n",
    "# Take logs of population \r\n",
    "GDP_pop_1['log_pop'] =  np.log(GDP_pop_1['pop'])\r\n",
    "\r\n",
    "# GDP growth rates\r\n",
    "GDP_pop_1['growth_GDP'] = GDP_pop_1['log_GDP'].diff(1)\r\n",
    "\r\n",
    "# Population Growth rates\r\n",
    "GDP_pop_1['growth_pop'] = GDP_pop_1['log_pop'].diff(1)\r\n",
    "\r\n",
    "# Removing 1990 as there is no meaningful growth rate\r\n",
    "GDP_pop_1= GDP_pop_1[(GDP_pop_1.year > 1990)]\r\n",
    "GDP_pop_1.head(5)\r\n"
   ],
   "outputs": [
    {
     "output_type": "execute_result",
     "data": {
      "text/html": [
       "<div>\n",
       "<style scoped>\n",
       "    .dataframe tbody tr th:only-of-type {\n",
       "        vertical-align: middle;\n",
       "    }\n",
       "\n",
       "    .dataframe tbody tr th {\n",
       "        vertical-align: top;\n",
       "    }\n",
       "\n",
       "    .dataframe thead th {\n",
       "        text-align: right;\n",
       "    }\n",
       "</style>\n",
       "<table border=\"1\" class=\"dataframe\">\n",
       "  <thead>\n",
       "    <tr style=\"text-align: right;\">\n",
       "      <th></th>\n",
       "      <th>Location</th>\n",
       "      <th>Location_code</th>\n",
       "      <th>year</th>\n",
       "      <th>GDP</th>\n",
       "      <th>pop</th>\n",
       "      <th>log_GDP</th>\n",
       "      <th>log_pop</th>\n",
       "      <th>growth_GDP</th>\n",
       "      <th>growth_pop</th>\n",
       "    </tr>\n",
       "  </thead>\n",
       "  <tbody>\n",
       "    <tr>\n",
       "      <th>1</th>\n",
       "      <td>Algeria</td>\n",
       "      <td>DZA</td>\n",
       "      <td>1991</td>\n",
       "      <td>3011.50</td>\n",
       "      <td>26400.5</td>\n",
       "      <td>8.010194</td>\n",
       "      <td>10.181138</td>\n",
       "      <td>-0.036676</td>\n",
       "      <td>0.024603</td>\n",
       "    </tr>\n",
       "    <tr>\n",
       "      <th>2</th>\n",
       "      <td>Algeria</td>\n",
       "      <td>DZA</td>\n",
       "      <td>1992</td>\n",
       "      <td>2994.49</td>\n",
       "      <td>27028.3</td>\n",
       "      <td>8.004529</td>\n",
       "      <td>10.204640</td>\n",
       "      <td>-0.005664</td>\n",
       "      <td>0.023502</td>\n",
       "    </tr>\n",
       "    <tr>\n",
       "      <th>3</th>\n",
       "      <td>Algeria</td>\n",
       "      <td>DZA</td>\n",
       "      <td>1993</td>\n",
       "      <td>2867.20</td>\n",
       "      <td>27635.5</td>\n",
       "      <td>7.961091</td>\n",
       "      <td>10.226856</td>\n",
       "      <td>-0.043438</td>\n",
       "      <td>0.022217</td>\n",
       "    </tr>\n",
       "    <tr>\n",
       "      <th>4</th>\n",
       "      <td>Algeria</td>\n",
       "      <td>DZA</td>\n",
       "      <td>1994</td>\n",
       "      <td>2783.16</td>\n",
       "      <td>28213.8</td>\n",
       "      <td>7.931342</td>\n",
       "      <td>10.247566</td>\n",
       "      <td>-0.029749</td>\n",
       "      <td>0.020710</td>\n",
       "    </tr>\n",
       "    <tr>\n",
       "      <th>5</th>\n",
       "      <td>Algeria</td>\n",
       "      <td>DZA</td>\n",
       "      <td>1995</td>\n",
       "      <td>2834.27</td>\n",
       "      <td>28757.8</td>\n",
       "      <td>7.949540</td>\n",
       "      <td>10.266664</td>\n",
       "      <td>0.018197</td>\n",
       "      <td>0.019098</td>\n",
       "    </tr>\n",
       "  </tbody>\n",
       "</table>\n",
       "</div>"
      ],
      "text/plain": [
       "  Location Location_code  year      GDP      pop   log_GDP    log_pop  \\\n",
       "1  Algeria           DZA  1991  3011.50  26400.5  8.010194  10.181138   \n",
       "2  Algeria           DZA  1992  2994.49  27028.3  8.004529  10.204640   \n",
       "3  Algeria           DZA  1993  2867.20  27635.5  7.961091  10.226856   \n",
       "4  Algeria           DZA  1994  2783.16  28213.8  7.931342  10.247566   \n",
       "5  Algeria           DZA  1995  2834.27  28757.8  7.949540  10.266664   \n",
       "\n",
       "   growth_GDP  growth_pop  \n",
       "1   -0.036676    0.024603  \n",
       "2   -0.005664    0.023502  \n",
       "3   -0.043438    0.022217  \n",
       "4   -0.029749    0.020710  \n",
       "5    0.018197    0.019098  "
      ]
     },
     "metadata": {},
     "execution_count": 22
    }
   ],
   "metadata": {}
  },
  {
   "cell_type": "markdown",
   "source": [
    "# Outlier Test\n",
    "We search for potential outliers that could skew our results"
   ],
   "metadata": {}
  },
  {
   "cell_type": "code",
   "execution_count": 23,
   "source": [
    "# Defining outliers as countries with unrealistic year to year growth exceeding 100% \r\n",
    "GDP_pop_1[(GDP_pop_1.growth_GDP > 1)]\r\n"
   ],
   "outputs": [
    {
     "output_type": "execute_result",
     "data": {
      "text/html": [
       "<div>\n",
       "<style scoped>\n",
       "    .dataframe tbody tr th:only-of-type {\n",
       "        vertical-align: middle;\n",
       "    }\n",
       "\n",
       "    .dataframe tbody tr th {\n",
       "        vertical-align: top;\n",
       "    }\n",
       "\n",
       "    .dataframe thead th {\n",
       "        text-align: right;\n",
       "    }\n",
       "</style>\n",
       "<table border=\"1\" class=\"dataframe\">\n",
       "  <thead>\n",
       "    <tr style=\"text-align: right;\">\n",
       "      <th></th>\n",
       "      <th>Location</th>\n",
       "      <th>Location_code</th>\n",
       "      <th>year</th>\n",
       "      <th>GDP</th>\n",
       "      <th>pop</th>\n",
       "      <th>log_GDP</th>\n",
       "      <th>log_pop</th>\n",
       "      <th>growth_GDP</th>\n",
       "      <th>growth_pop</th>\n",
       "    </tr>\n",
       "  </thead>\n",
       "  <tbody>\n",
       "    <tr>\n",
       "      <th>560</th>\n",
       "      <td>Eritrea</td>\n",
       "      <td>ERI</td>\n",
       "      <td>1992</td>\n",
       "      <td>961.80</td>\n",
       "      <td>2236.88</td>\n",
       "      <td>6.868807</td>\n",
       "      <td>7.712837</td>\n",
       "      <td>14.586499</td>\n",
       "      <td>-0.004852</td>\n",
       "    </tr>\n",
       "    <tr>\n",
       "      <th>4685</th>\n",
       "      <td>Belarus</td>\n",
       "      <td>BLR</td>\n",
       "      <td>1994</td>\n",
       "      <td>2124.22</td>\n",
       "      <td>10108.30</td>\n",
       "      <td>7.661160</td>\n",
       "      <td>9.221112</td>\n",
       "      <td>2.053712</td>\n",
       "      <td>-0.002648</td>\n",
       "    </tr>\n",
       "    <tr>\n",
       "      <th>5705</th>\n",
       "      <td>Turkmenistan</td>\n",
       "      <td>TKM</td>\n",
       "      <td>1991</td>\n",
       "      <td>3368.43</td>\n",
       "      <td>3789.19</td>\n",
       "      <td>8.122202</td>\n",
       "      <td>8.239908</td>\n",
       "      <td>1.437439</td>\n",
       "      <td>0.028159</td>\n",
       "    </tr>\n",
       "  </tbody>\n",
       "</table>\n",
       "</div>"
      ],
      "text/plain": [
       "          Location Location_code  year      GDP       pop   log_GDP   log_pop  \\\n",
       "560        Eritrea           ERI  1992   961.80   2236.88  6.868807  7.712837   \n",
       "4685       Belarus           BLR  1994  2124.22  10108.30  7.661160  9.221112   \n",
       "5705  Turkmenistan           TKM  1991  3368.43   3789.19  8.122202  8.239908   \n",
       "\n",
       "      growth_GDP  growth_pop  \n",
       "560    14.586499   -0.004852  \n",
       "4685    2.053712   -0.002648  \n",
       "5705    1.437439    0.028159  "
      ]
     },
     "metadata": {},
     "execution_count": 23
    }
   ],
   "metadata": {}
  },
  {
   "cell_type": "code",
   "execution_count": 24,
   "source": [
    "# Removing the outliers found above\r\n",
    "GDP_pop_out=GDP_pop_1[(GDP_pop_1.Location_code != 'ERI') & (GDP_pop_1.Location_code != 'BLR') & (GDP_pop_1.Location_code != 'TKM')]\r\n"
   ],
   "outputs": [],
   "metadata": {}
  },
  {
   "cell_type": "markdown",
   "source": [
    "# Analysis\n",
    "We divide all countries into 4 different income groups based on GDP per capita in 2019. The thresholds are from the income quantiles in 2019.s."
   ],
   "metadata": {}
  },
  {
   "cell_type": "code",
   "execution_count": 25,
   "source": [
    "# Defining the income groups based on GDP-quantiles in 2019.\r\n",
    "GDP_pop_group4 = GDP_pop_out[(GDP_pop_out.GDP <= GDP_pop_out.GDP.quantile(0.25)) & (GDP_pop_out.year == 2019)]\r\n",
    "GDP_pop_group3 = GDP_pop_out[(GDP_pop_out.GDP >= GDP_pop_out.GDP.quantile(0.25)) & (GDP_pop_out.GDP <= GDP_pop_out.GDP.quantile(0.5)) & (GDP_pop_out.year == 2019)]\r\n",
    "GDP_pop_group2 = GDP_pop_out[(GDP_pop_out.GDP >= GDP_pop_out.GDP.quantile(0.5)) & (GDP_pop_out.GDP <= GDP_pop_out.GDP.quantile(0.75)) & (GDP_pop_out.year == 2019)]\r\n",
    "GDP_pop_group1 = GDP_pop_out[(GDP_pop_out.GDP >= GDP_pop_out.GDP.quantile(0.75)) & (GDP_pop_out.year == 2019)]"
   ],
   "outputs": [],
   "metadata": {}
  },
  {
   "cell_type": "markdown",
   "source": [
    "Now we join the rest of the data set on the income groups"
   ],
   "metadata": {}
  },
  {
   "cell_type": "code",
   "execution_count": 26,
   "source": [
    "# group 1\r\n",
    "join_group1 = pd.merge(GDP_pop_group1, GDP_pop_out, how='left',on=['Location_code'])\r\n",
    "drop_these = ['year_x', 'GDP_x', 'pop_x', 'Location_y','log_GDP_x','log_pop_x','growth_GDP_x','growth_pop_x']\r\n",
    "rename_these = {'year_y':'year', 'GDP_y':'GDP', 'pop_y':'pop','log_GDP_y':'log_GDP','log_pop_y':'log_pop','growth_GDP_y':'growth_GDP','growth_pop_y':'growth_pop','Location_x':'Location'}\r\n",
    "join_group1.drop(drop_these, axis=1, inplace=True)\r\n",
    "join_group1.rename(columns = rename_these, inplace=True)\r\n",
    "join_group1['income_group'] = str(\"group_1\")\r\n",
    "# group 2\r\n",
    "join_group2 = pd.merge(GDP_pop_group2, GDP_pop_out, how='left',on=['Location_code'])\r\n",
    "drop_these = ['year_x', 'GDP_x', 'pop_x', 'Location_y','log_GDP_x','log_pop_x','growth_GDP_x','growth_pop_x']\r\n",
    "rename_these = {'year_y':'year', 'GDP_y':'GDP', 'pop_y':'pop','log_GDP_y':'log_GDP','log_pop_y':'log_pop','growth_GDP_y':'growth_GDP','growth_pop_y':'growth_pop','Location_x':'Location'}\r\n",
    "join_group2.drop(drop_these, axis=1, inplace=True)\r\n",
    "join_group2.rename(columns = rename_these, inplace=True)\r\n",
    "join_group2['income_group'] = str(\"group_2\")\r\n",
    "# group 3\r\n",
    "join_group3 = pd.merge(GDP_pop_group3, GDP_pop_out, how='left',on=['Location_code'])\r\n",
    "drop_these = ['year_x', 'GDP_x', 'pop_x', 'Location_y','log_GDP_x','log_pop_x','growth_GDP_x','growth_pop_x']\r\n",
    "rename_these = {'year_y':'year', 'GDP_y':'GDP', 'pop_y':'pop','log_GDP_y':'log_GDP','log_pop_y':'log_pop','growth_GDP_y':'growth_GDP','growth_pop_y':'growth_pop','Location_x':'Location'}\r\n",
    "join_group3.drop(drop_these, axis=1, inplace=True)\r\n",
    "join_group3.rename(columns = rename_these, inplace=True)\r\n",
    "join_group3['income_group'] = str(\"group_3\")\r\n",
    "# group 4\r\n",
    "join_group4 = pd.merge(GDP_pop_group4, GDP_pop_out, how='left',on=['Location_code'])\r\n",
    "drop_these = ['year_x', 'GDP_x', 'pop_x', 'Location_y','log_GDP_x','log_pop_x','growth_GDP_x','growth_pop_x']\r\n",
    "rename_these = {'year_y':'year', 'GDP_y':'GDP', 'pop_y':'pop','log_GDP_y':'log_GDP','log_pop_y':'log_pop','growth_GDP_y':'growth_GDP','growth_pop_y':'growth_pop','Location_x':'Location'}\r\n",
    "join_group4.drop(drop_these, axis=1, inplace=True)\r\n",
    "join_group4.rename(columns = rename_these, inplace=True)\r\n",
    "join_group4['income_group'] = str(\"group_4\")\r\n",
    "\r\n",
    "join_group4.head(5)"
   ],
   "outputs": [
    {
     "output_type": "execute_result",
     "data": {
      "text/html": [
       "<div>\n",
       "<style scoped>\n",
       "    .dataframe tbody tr th:only-of-type {\n",
       "        vertical-align: middle;\n",
       "    }\n",
       "\n",
       "    .dataframe tbody tr th {\n",
       "        vertical-align: top;\n",
       "    }\n",
       "\n",
       "    .dataframe thead th {\n",
       "        text-align: right;\n",
       "    }\n",
       "</style>\n",
       "<table border=\"1\" class=\"dataframe\">\n",
       "  <thead>\n",
       "    <tr style=\"text-align: right;\">\n",
       "      <th></th>\n",
       "      <th>Location</th>\n",
       "      <th>Location_code</th>\n",
       "      <th>year</th>\n",
       "      <th>GDP</th>\n",
       "      <th>pop</th>\n",
       "      <th>log_GDP</th>\n",
       "      <th>log_pop</th>\n",
       "      <th>growth_GDP</th>\n",
       "      <th>growth_pop</th>\n",
       "      <th>income_group</th>\n",
       "    </tr>\n",
       "  </thead>\n",
       "  <tbody>\n",
       "    <tr>\n",
       "      <th>0</th>\n",
       "      <td>Benin</td>\n",
       "      <td>BEN</td>\n",
       "      <td>1991</td>\n",
       "      <td>581.677</td>\n",
       "      <td>5149.50</td>\n",
       "      <td>6.365915</td>\n",
       "      <td>8.546655</td>\n",
       "      <td>0.007617</td>\n",
       "      <td>0.033773</td>\n",
       "      <td>group_4</td>\n",
       "    </tr>\n",
       "    <tr>\n",
       "      <th>1</th>\n",
       "      <td>Benin</td>\n",
       "      <td>BEN</td>\n",
       "      <td>1992</td>\n",
       "      <td>578.404</td>\n",
       "      <td>5331.81</td>\n",
       "      <td>6.360273</td>\n",
       "      <td>8.581446</td>\n",
       "      <td>-0.005643</td>\n",
       "      <td>0.034791</td>\n",
       "      <td>group_4</td>\n",
       "    </tr>\n",
       "    <tr>\n",
       "      <th>2</th>\n",
       "      <td>Benin</td>\n",
       "      <td>BEN</td>\n",
       "      <td>1993</td>\n",
       "      <td>591.102</td>\n",
       "      <td>5521.76</td>\n",
       "      <td>6.381989</td>\n",
       "      <td>8.616452</td>\n",
       "      <td>0.021716</td>\n",
       "      <td>0.035006</td>\n",
       "      <td>group_4</td>\n",
       "    </tr>\n",
       "    <tr>\n",
       "      <th>3</th>\n",
       "      <td>Benin</td>\n",
       "      <td>BEN</td>\n",
       "      <td>1994</td>\n",
       "      <td>582.734</td>\n",
       "      <td>5714.21</td>\n",
       "      <td>6.367731</td>\n",
       "      <td>8.650711</td>\n",
       "      <td>-0.014258</td>\n",
       "      <td>0.034259</td>\n",
       "      <td>group_4</td>\n",
       "    </tr>\n",
       "    <tr>\n",
       "      <th>4</th>\n",
       "      <td>Benin</td>\n",
       "      <td>BEN</td>\n",
       "      <td>1995</td>\n",
       "      <td>597.940</td>\n",
       "      <td>5905.55</td>\n",
       "      <td>6.393490</td>\n",
       "      <td>8.683648</td>\n",
       "      <td>0.025760</td>\n",
       "      <td>0.032937</td>\n",
       "      <td>group_4</td>\n",
       "    </tr>\n",
       "  </tbody>\n",
       "</table>\n",
       "</div>"
      ],
      "text/plain": [
       "  Location Location_code  year      GDP      pop   log_GDP   log_pop  \\\n",
       "0    Benin           BEN  1991  581.677  5149.50  6.365915  8.546655   \n",
       "1    Benin           BEN  1992  578.404  5331.81  6.360273  8.581446   \n",
       "2    Benin           BEN  1993  591.102  5521.76  6.381989  8.616452   \n",
       "3    Benin           BEN  1994  582.734  5714.21  6.367731  8.650711   \n",
       "4    Benin           BEN  1995  597.940  5905.55  6.393490  8.683648   \n",
       "\n",
       "   growth_GDP  growth_pop income_group  \n",
       "0    0.007617    0.033773      group_4  \n",
       "1   -0.005643    0.034791      group_4  \n",
       "2    0.021716    0.035006      group_4  \n",
       "3   -0.014258    0.034259      group_4  \n",
       "4    0.025760    0.032937      group_4  "
      ]
     },
     "metadata": {},
     "execution_count": 26
    }
   ],
   "metadata": {}
  },
  {
   "cell_type": "code",
   "execution_count": 27,
   "source": [
    "# We plot the average growth rates in GDP per capita for each income group\r\n",
    "x_coordinates = [1991, 2020]\r\n",
    "y_coordinates = [0.02, 0.02]\r\n",
    "plt.plot(x_coordinates, y_coordinates, sns.xkcd_rgb[\"orange\"])\r\n",
    "join_group1.groupby([\"year\"]).growth_GDP.mean().plot()\r\n",
    "join_group2.groupby([\"year\"]).growth_GDP.mean().plot().grid(True)\r\n",
    "join_group3.groupby([\"year\"]).growth_GDP.mean().plot().set_ylabel(\"Average growth in GDP per capita\")\r\n",
    "join_group4.groupby([\"year\"]).growth_GDP.mean().plot().legend([\"Reference line 2%\",\"income group 1\",\"income group 2\",\"income group 3\",\"income group 4\"]);"
   ],
   "outputs": [
    {
     "output_type": "display_data",
     "data": {
      "image/png": "[encoded data removed]",
      "text/plain": [
       "<Figure size 576x396 with 1 Axes>"
      ]
     },
     "metadata": {}
    }
   ],
   "metadata": {}
  },
  {
   "cell_type": "markdown",
   "source": [
    "Finally, we want to see if there is any correlation between the average growth rates in GDP per capita and population. To do so, we concatenate the 4 income groups data sets into one final data set, which we call \"outcome\"."
   ],
   "metadata": {}
  },
  {
   "cell_type": "code",
   "execution_count": 28,
   "source": [
    "# Merge group tables\r\n",
    "outcome = pd.concat([join_group1, join_group2, join_group3, join_group4])\r\n"
   ],
   "outputs": [],
   "metadata": {}
  },
  {
   "cell_type": "code",
   "execution_count": 29,
   "source": [
    "# Scatter plot\r\n",
    "scatterx = outcome.groupby([\"Location\"]).growth_GDP.mean()\r\n",
    "scattery = outcome.groupby([\"Location\"]).growth_pop.mean()\r\n",
    "\r\n",
    "scatterdata1 = pd.merge(outcome, scatterx, how='left',on=['Location'])\r\n",
    "scatterdata2 = pd.merge(scatterdata1, scattery, how='left',on=['Location'])\r\n",
    "\r\n",
    "scatter = sns.scatterplot(x=\"growth_GDP_y\", y=\"growth_pop_y\", data=scatterdata2, hue= \"income_group\" , legend='full')\r\n",
    "plt.xlabel(\"Average growth in GDP per capita\")\r\n",
    "plt.ylabel(\"Average growth in population\");\r\n",
    "plt.grid(True)\r\n"
   ],
   "outputs": [
    {
     "output_type": "display_data",
     "data": {
      "image/png": "[encoded data removed]",
      "text/plain": [
       "<Figure size 576x396 with 1 Axes>"
      ]
     },
     "metadata": {}
    }
   ],
   "metadata": {}
  },
  {
   "cell_type": "markdown",
   "source": [
    "# Conclusion"
   ],
   "metadata": {}
  },
  {
   "cell_type": "markdown",
   "source": [
    "In this project we have worked with two data sets; one containing the GDP per capita for most countries from 1990 to 2019 and another containing the population for most countries in the same period. We started by cleaning both data sets and then made interactive plots of both variables in order to investigate the data and thereafter merged the two data sets to look at the correlation.\n",
    "\n",
    "In the analysis we divided all the countries into four different income groups based on the 25th, 50th and 75th quantile of GDP per capita in 2019. Then we calculated the growth rates for both GDP per capita and population.\n",
    "\n",
    "We graphed the average growth rates for the 4 income groups to investigate if there was any noticeable difference. \n",
    "We see that in the early 90's income group 3 and 4 had negative growth rates, which income group 3 escape earlier than income group 4.\n",
    "From around 2000 and foreward, income group 1 seems to have a lower growth rate than the three other groups, which can be a sign of convergence in global income.\n",
    "Worth noting is aound the financial crisis in 2008, where the highest income groups have the lowest growth rates.\n",
    "\n",
    "Finally, we make a scatterplot to examine the correlation between growth in population and GDP per capita. Some theories claim that there might be a positive correlation due to economics of scale in the economy. We do not find any graphical evidence to support these theories. "
   ],
   "metadata": {}
  }
 ],
 "metadata": {
  "kernelspec": {
   "name": "python3",
   "display_name": "Python 3.9.7 64-bit"
  },
  "language_info": {
   "codemirror_mode": {
    "name": "ipython",
    "version": 3
   },
   "file_extension": ".py",
   "mimetype": "text/x-python",
   "name": "python",
   "nbconvert_exporter": "python",
   "pygments_lexer": "ipython3",
   "version": "3.9.7"
  },
  "toc-autonumbering": true,
  "interpreter": {
   "hash": "593d5b33a98ae22a440629813c8af9a86fc9083140f1e2c66821bb551a8b7aa1"
  }
 },
 "nbformat": 4,
 "nbformat_minor": 4
}