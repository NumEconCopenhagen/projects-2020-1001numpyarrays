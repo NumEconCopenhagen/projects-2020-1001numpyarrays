{
 "cells": [
  {
   "cell_type": "markdown",
   "metadata": {},
   "source": [
    "# YOUR PROJECT TITLE"
   ]
  },
  {
   "cell_type": "markdown",
   "metadata": {},
   "source": [
    "> **Note the following:** \n",
    "> 1. This is *not* meant to be an example of an actual **model analysis project**, just an example of how to structure such a project.\n",
    "> 1. Remember the general advice on structuring and commenting your code from [lecture 5](https://numeconcopenhagen.netlify.com/lectures/Workflow_and_debugging).\n",
    "> 1. Remember this [guide](https://www.markdownguide.org/basic-syntax/) on markdown and (a bit of) latex.\n",
    "> 1. Turn on automatic numbering by clicking on the small icon on top of the table of contents in the left sidebar.\n",
    "> 1. The `modelproject.py` file includes a function which could be used multiple times in this notebook."
   ]
  },
  {
   "cell_type": "markdown",
   "metadata": {},
   "source": [
    "Imports and set magics:"
   ]
  },
  {
   "cell_type": "code",
   "execution_count": 417,
   "metadata": {},
   "outputs": [
    {
     "output_type": "stream",
     "name": "stdout",
     "text": "The autoreload extension is already loaded. To reload it, use:\n  %reload_ext autoreload\n"
    }
   ],
   "source": [
    "import numpy as np\n",
    "from scipy import optimize\n",
    "import sympy as sm\n",
    "from IPython.display import display\n",
    "import matplotlib.pyplot as plt\n",
    "# autoreload modules when code is run\n",
    "%load_ext autoreload\n",
    "%autoreload 2\n",
    "\n",
    "# local modules\n",
    "import modelproject"
   ]
  },
  {
   "cell_type": "markdown",
   "metadata": {
    "toc-hr-collapsed": true
   },
   "source": [
    "# The Basic Solow Model"
   ]
  },
  {
   "cell_type": "markdown",
   "metadata": {},
   "source": [
    "\n",
    "\\begin{equation}\n",
    "Y_t = AK_t^{\\alpha}L_t^{1-\\alpha} \\tag{1}\n",
    "\\end{equation}\n",
    "\\begin{equation}\n",
    "S_t = sY_t \\tag{2}\n",
    "\\end{equation}\n",
    "\\begin{equation}\n",
    "K_{t+1} - K_t = S_t -\\delta K_t \\tag{3}\n",
    "\\end{equation}\n",
    "\\begin{equation}\n",
    "L_{t+1} = (1+n)L_t \\tag{4}\n",
    "\\end{equation}\n",
    "\\begin{equation}\n",
    "y_t = \\frac{Y_t}{L_t} = Ak_t^{\\alpha} \\tag{5}\n",
    "\\end{equation}\n",
    "\\begin{equation}\n",
    "k_t = \\frac{K_t}{L_t} \\tag{6}\n",
    "\\end{equation}\n",
    "\n",
    "\n"
   ]
  },
  {
   "cell_type": "code",
   "execution_count": 418,
   "metadata": {},
   "outputs": [],
   "source": [
    "Y = sm.symbols(\"Y_t\")          #GDP in the economy\n",
    "y = sm.symbols(\"y_t\")          #GDP per worker\n",
    "K = sm.symbols(\"K_t\")          #Capital in the economy\n",
    "K_next = sm.symbols(\"K_{t+1}\") #Capital in the economy next period\n",
    "k = sm.symbols(\"k_t\")          #Capital per worker\n",
    "k_next = sm.symbols(\"k_{t+1}\") #Capital per worker\n",
    "s = sm.symbols(\"s\")            #Rate of savings\n",
    "n = sm.symbols(\"n\")            #Population growth\n",
    "g = sm.symbols(\"g\")            #Growth in technology\n",
    "A = sm.symbols(\"A\")            #Total factor productivity\n",
    "L = sm.symbols(\"L_t\")          #Labour\n",
    "L_next = sm.symbols(\"L_{t+1}\") #Labour next period\n",
    "alpha = sm.symbols(\"alpha\")    #Return on capital\n",
    "delta = sm.symbols(\"delta\")    #Depreciation rate on capital\n",
    "kstar = sm.symbols(\"k^*\")    #Steady state for capital\n",
    "ystar = sm.symbols(\"y^*\")      #Steady state for GDP per worker\n",
    "\n",
    ""
   ]
  },
  {
   "cell_type": "code",
   "execution_count": 419,
   "metadata": {},
   "outputs": [],
   "source": [
    "r = sm.symbols(\"r_t\")          #Real rental rate\n",
    "w = sm.symbols(\"w_t\")          #Real wage"
   ]
  },
  {
   "cell_type": "markdown",
   "metadata": {},
   "source": [
    "\\begin{equation}\n",
    "r_t = \\alpha A \\left(\\frac{K_t}{L_t}\\right)^{\\alpha-1} \\tag{7}\n",
    "\\end{equation}\n",
    "\\begin{equation}\n",
    "w_t = (1-\\alpha) A \\left(\\frac{K_t}{L_t}\\right)^{\\alpha-1} \\tag{8}\n",
    "\\end{equation}"
   ]
  },
  {
   "cell_type": "code",
   "execution_count": 420,
   "metadata": {},
   "outputs": [],
   "source": [
    "##production_function = sm.Eq(A * K**(alpha) * L**(1-alpha), Y)"
   ]
  },
  {
   "cell_type": "code",
   "execution_count": 421,
   "metadata": {},
   "outputs": [
    {
     "output_type": "execute_result",
     "data": {
      "text/plain": "Eq(A*K_t**(alpha - 1)*L_t**(1 - alpha)*alpha, r_t)",
      "text/latex": "$\\displaystyle A K_{t}^{\\alpha - 1} L_{t}^{1 - \\alpha} \\alpha = r_{t}$"
     },
     "metadata": {},
     "execution_count": 421
    }
   ],
   "source": [
    "foc_wrt_K = sm.Eq(sm.simplify(sm.diff(A * K**(alpha) * L**(1-alpha), K)),r)\n",
    "foc_wrt_K"
   ]
  },
  {
   "cell_type": "code",
   "execution_count": 422,
   "metadata": {},
   "outputs": [
    {
     "output_type": "execute_result",
     "data": {
      "text/plain": "Eq(-A*K_t**alpha*L_t**(-alpha)*(alpha - 1), w_t)",
      "text/latex": "$\\displaystyle - A K_{t}^{\\alpha} L_{t}^{- \\alpha} \\left(\\alpha - 1\\right) = w_{t}$"
     },
     "metadata": {},
     "execution_count": 422
    }
   ],
   "source": [
    "foc_wrt_L = sm.Eq(sm.simplify(sm.diff(A * K**(alpha) * L**(1-alpha), L)),w)\n",
    "foc_wrt_L"
   ]
  },
  {
   "cell_type": "markdown",
   "metadata": {},
   "source": [
    "# Capital Accumulation"
   ]
  },
  {
   "cell_type": "markdown",
   "metadata": {},
   "source": [
    "By inserting equation 1 in 2 and then inserting that in equation 3, finally we divide by equation 4 to end up at the transition equation"
   ]
  },
  {
   "cell_type": "code",
   "execution_count": 423,
   "metadata": {},
   "outputs": [],
   "source": [
    "Transition_equation = sm.simplify(sm.Eq((((1/(1+n))*(A*s*k**(alpha)+(1-delta)*k))), k_next))"
   ]
  },
  {
   "cell_type": "code",
   "execution_count": 424,
   "metadata": {},
   "outputs": [
    {
     "output_type": "execute_result",
     "data": {
      "text/plain": "Eq(k_{t+1}, (A*k_t**alpha*s - k_t*(delta - 1))/(n + 1))",
      "text/latex": "$\\displaystyle k_{t+1} = \\frac{A k_{t}^{\\alpha} s - k_{t} \\left(\\delta - 1\\right)}{n + 1}$"
     },
     "metadata": {},
     "execution_count": 424
    }
   ],
   "source": [
    "Transition_equation\n",
    ""
   ]
  },
  {
   "cell_type": "markdown",
   "metadata": {},
   "source": [
    "To find the steady state of capital, we use that $$\\begin{equation}\n",
    "k_{t+1}=k_t=k^*\n",
    "\\end{equation}$$\n",
    " in steady state.\n"
   ]
  },
  {
   "cell_type": "code",
   "execution_count": 425,
   "metadata": {},
   "outputs": [
    {
     "output_type": "execute_result",
     "data": {
      "text/plain": "((delta + n)/(A*s))**(1/(alpha - 1))",
      "text/latex": "$\\displaystyle \\left(\\frac{\\delta + n}{A s}\\right)^{\\frac{1}{\\alpha - 1}}$"
     },
     "metadata": {},
     "execution_count": 425
    }
   ],
   "source": [
    "steady_state_capital = sm.solve(((A*s*kstar**(alpha)-(delta-1)*kstar)/(1+n)-kstar), kstar)\n",
    "steady_state_capital[0]"
   ]
  },
  {
   "cell_type": "code",
   "execution_count": 426,
   "metadata": {},
   "outputs": [
    {
     "output_type": "execute_result",
     "data": {
      "text/plain": "Eq(((delta + n)/(A*s))**(1/(alpha - 1)), k^*)",
      "text/latex": "$\\displaystyle \\left(\\frac{\\delta + n}{A s}\\right)^{\\frac{1}{\\alpha - 1}} = k^{*}$"
     },
     "metadata": {},
     "execution_count": 426
    }
   ],
   "source": [
    "sm.Eq(steady_state_capital[0], kstar)"
   ]
  },
  {
   "cell_type": "markdown",
   "metadata": {},
   "source": [
    "Using this result and using equation 5, we get the following steady state output"
   ]
  },
  {
   "cell_type": "code",
   "execution_count": 427,
   "metadata": {},
   "outputs": [
    {
     "output_type": "execute_result",
     "data": {
      "text/plain": "Eq(y^*, A*(((delta + n)/(A*s))**(1/(alpha - 1)))**alpha)",
      "text/latex": "$\\displaystyle y^{*} = A \\left(\\left(\\frac{\\delta + n}{A s}\\right)^{\\frac{1}{\\alpha - 1}}\\right)^{\\alpha}$"
     },
     "metadata": {},
     "execution_count": 427
    }
   ],
   "source": [
    "steady_state_output = sm.simplify(A*steady_state_capital[0]**alpha)\n",
    "sm.Eq(ystar, steady_state_output)"
   ]
  },
  {
   "cell_type": "code",
   "execution_count": 235,
   "metadata": {},
   "outputs": [],
   "source": []
  },
  {
   "cell_type": "code",
   "execution_count": 428,
   "metadata": {},
   "outputs": [],
   "source": [
    "steady_state_capital_func = sm.lambdify((delta,n,A,s,alpha),steady_state_capital[0])\n",
    "\n",
    "def _steady_state_capital_func(delta,n,A,s,alpha):\n",
    "    return steady_state_capital_func(delta,n,A,s,alpha)\n",
    "\n",
    "\n",
    ""
   ]
  },
  {
   "cell_type": "code",
   "execution_count": 429,
   "metadata": {},
   "outputs": [
    {
     "output_type": "execute_result",
     "data": {
      "text/plain": "array([ 1.70293062,  4.79176439,  8.77643682, 13.48323044])"
     },
     "metadata": {},
     "execution_count": 429
    }
   ],
   "source": [
    "delta= 0.05\n",
    "n= 0.02\n",
    "A= 1\n",
    "savings_vec = np.array([0.1,0.2,0.3,0.4])\n",
    "alpha = 0.33\n",
    "steady_state_capital_func(delta,n,A,savings_vec,alpha)\n",
    ""
   ]
  },
  {
   "cell_type": "code",
   "execution_count": 448,
   "metadata": {},
   "outputs": [],
   "source": [
    "def solow_graph(k,delta,n,A,s,alpha,t):\n",
    "    # array of k values\n",
    "    kvec = [k]\n",
    "    # savings path\n",
    "    svec = []\n",
    "    # depreciation path\n",
    "    deltavec = []\n",
    "\n",
    "\n",
    "    for t_ in range(1,t):\n",
    "        savings = s*A*t_**alpha\n",
    "        #k_extended = t_ + savings - delta\n",
    "        #depreciation_path = (delta+n)*t_\n",
    "        svec.append(savings)\n",
    "        #kvec.append(k_extended)\n",
    "        #deltavec.append(depreciation_path)\n",
    "\n",
    "    for t_ in range(1, t):\n",
    "        savings = s*A*t_**alpha\n",
    "        k_extended = t_ + savings - t_*delta\n",
    "        kvec.append(k_extended)\n",
    "\n",
    "    for t_ in range(1,t):\n",
    "        depreciation_path = (delta+n)*t_\n",
    "        deltavec.append(depreciation_path)\n",
    "\n",
    "\n",
    "    plt.figure(figsize=(5,5))\n",
    "    plt.plot(k_extended[:t], label='$sBk_t^{\\u03B1}$', color = 'blue')\n",
    "    plt.plot(depreciation_path[:t], label = '$(n+\\delta)k_t$', color = 'black')\n",
    "    plt.plot(savings[:t], label = '$(n+\\delta)k_t$', color = 'red')\n",
    "    plt.xlim(0,t)\n",
    "    plt.ylim(0,depreciation_path[-1])\n",
    "    plt.xlabel('$k_t$')\n",
    "    plt.grid(True)\n",
    "    plt.legend()\n",
    "    return plt.show()\n",
    "    \n",
    ""
   ]
  },
  {
   "cell_type": "code",
   "execution_count": 449,
   "metadata": {},
   "outputs": [
    {
     "output_type": "error",
     "ename": "TypeError",
     "evalue": "'float' object is not subscriptable",
     "traceback": [
      "\u001b[1;31m---------------------------------------------------------------------------\u001b[0m",
      "\u001b[1;31mTypeError\u001b[0m                                 Traceback (most recent call last)",
      "\u001b[1;32m<ipython-input-449-22acf63b6ce2>\u001b[0m in \u001b[0;36m<module>\u001b[1;34m\u001b[0m\n\u001b[1;32m----> 1\u001b[1;33m \u001b[0msolow_graph\u001b[0m\u001b[1;33m(\u001b[0m\u001b[1;36m0\u001b[0m\u001b[1;33m,\u001b[0m\u001b[1;36m0.05\u001b[0m\u001b[1;33m,\u001b[0m\u001b[1;36m0.02\u001b[0m\u001b[1;33m,\u001b[0m\u001b[1;36m1\u001b[0m\u001b[1;33m,\u001b[0m\u001b[1;36m0.2\u001b[0m\u001b[1;33m,\u001b[0m\u001b[1;36m0.33\u001b[0m\u001b[1;33m,\u001b[0m\u001b[1;36m100\u001b[0m\u001b[1;33m)\u001b[0m\u001b[1;33m\u001b[0m\u001b[1;33m\u001b[0m\u001b[0m\n\u001b[0m",
      "\u001b[1;32m<ipython-input-448-1e523f56f170>\u001b[0m in \u001b[0;36msolow_graph\u001b[1;34m(k, delta, n, A, s, alpha, t)\u001b[0m\n\u001b[0;32m     27\u001b[0m \u001b[1;33m\u001b[0m\u001b[0m\n\u001b[0;32m     28\u001b[0m     \u001b[0mplt\u001b[0m\u001b[1;33m.\u001b[0m\u001b[0mfigure\u001b[0m\u001b[1;33m(\u001b[0m\u001b[0mfigsize\u001b[0m\u001b[1;33m=\u001b[0m\u001b[1;33m(\u001b[0m\u001b[1;36m5\u001b[0m\u001b[1;33m,\u001b[0m\u001b[1;36m5\u001b[0m\u001b[1;33m)\u001b[0m\u001b[1;33m)\u001b[0m\u001b[1;33m\u001b[0m\u001b[1;33m\u001b[0m\u001b[0m\n\u001b[1;32m---> 29\u001b[1;33m     \u001b[0mplt\u001b[0m\u001b[1;33m.\u001b[0m\u001b[0mplot\u001b[0m\u001b[1;33m(\u001b[0m\u001b[0mk_extended\u001b[0m\u001b[1;33m[\u001b[0m\u001b[1;33m:\u001b[0m\u001b[0mt\u001b[0m\u001b[1;33m]\u001b[0m\u001b[1;33m,\u001b[0m \u001b[0mlabel\u001b[0m\u001b[1;33m=\u001b[0m\u001b[1;34m'$sBk_t^{\\u03B1}$'\u001b[0m\u001b[1;33m,\u001b[0m \u001b[0mcolor\u001b[0m \u001b[1;33m=\u001b[0m \u001b[1;34m'blue'\u001b[0m\u001b[1;33m)\u001b[0m\u001b[1;33m\u001b[0m\u001b[1;33m\u001b[0m\u001b[0m\n\u001b[0m\u001b[0;32m     30\u001b[0m     \u001b[0mplt\u001b[0m\u001b[1;33m.\u001b[0m\u001b[0mplot\u001b[0m\u001b[1;33m(\u001b[0m\u001b[0mdepreciation_path\u001b[0m\u001b[1;33m[\u001b[0m\u001b[1;33m:\u001b[0m\u001b[0mt\u001b[0m\u001b[1;33m]\u001b[0m\u001b[1;33m,\u001b[0m \u001b[0mlabel\u001b[0m \u001b[1;33m=\u001b[0m \u001b[1;34m'$(n+\\delta)k_t$'\u001b[0m\u001b[1;33m,\u001b[0m \u001b[0mcolor\u001b[0m \u001b[1;33m=\u001b[0m \u001b[1;34m'black'\u001b[0m\u001b[1;33m)\u001b[0m\u001b[1;33m\u001b[0m\u001b[1;33m\u001b[0m\u001b[0m\n\u001b[0;32m     31\u001b[0m     \u001b[0mplt\u001b[0m\u001b[1;33m.\u001b[0m\u001b[0mplot\u001b[0m\u001b[1;33m(\u001b[0m\u001b[0msavings\u001b[0m\u001b[1;33m[\u001b[0m\u001b[1;33m:\u001b[0m\u001b[0mt\u001b[0m\u001b[1;33m]\u001b[0m\u001b[1;33m,\u001b[0m \u001b[0mlabel\u001b[0m \u001b[1;33m=\u001b[0m \u001b[1;34m'$(n+\\delta)k_t$'\u001b[0m\u001b[1;33m,\u001b[0m \u001b[0mcolor\u001b[0m \u001b[1;33m=\u001b[0m \u001b[1;34m'red'\u001b[0m\u001b[1;33m)\u001b[0m\u001b[1;33m\u001b[0m\u001b[1;33m\u001b[0m\u001b[0m\n",
      "\u001b[1;31mTypeError\u001b[0m: 'float' object is not subscriptable"
     ]
    }
   ],
   "source": [
    "solow_graph(0,0.05,0.02,1,0.2,0.33,100)\n",
    ""
   ]
  },
  {
   "cell_type": "code",
   "execution_count": 432,
   "metadata": {},
   "outputs": [
    {
     "output_type": "stream",
     "name": "stdout",
     "text": "[1, 1.15, 2.201402674904366, 3.2373955304369706, 4.266016524745351, 5.290165368616785, 6.311260025537067, 7.3301126726468375, 8.347236998174814, 9.362980954575736, 10.377592417900445, 11.391254941288128, 12.404108683780189, 13.416263373898072, 14.427806713342312, 15.438810032749542, 16.449332219560645, 17.45942251981927, 18.469122583324495, 19.47846798674529, 20.487489388144986, 21.49621341590576, 22.50466336277302, 23.51285973457709, 24.520820688998203, 25.528562390030967, 26.53609929703955, 27.5434444025033, 28.550609429107602, 29.557604994323587, 30.564440748766625, 31.571125493239066, 32.577667278317406, 33.58407348954718, 34.59035092069544, 35.596505837034115, 36.60254403025522, 37.6084708663243, 38.61429132734546, 39.62001004832384, 40.62563134956181, 41.63115926530262, 42.636597569136796, 43.64194979660477, 44.64721926536294, 45.65240909322484, 46.65752221434322, 47.662561393760704, 48.66752924052451, 49.672428219533614, 50.67726066226424, 51.68202877649999, 52.68673465517656, 53.691380284437045, 54.69596755098177, 55.700498248786275, 56.70497408525218, 57.70939668684811, 58.71376760429101, 59.71808831731265, 60.72236023905086, 61.726584720100846, 62.73076305225798, 63.73489647198013, 64.73898616359469, 65.74303326227272, 66.74703885679054, 67.75100399209678, 68.75492967170153, 69.75881685990198, 70.76266648385831, 71.76647943553165, 72.77025657349517, 73.77399872462824, 74.77770668570263, 75.78138122486915, 76.7850230830521, 77.78863297525827, 78.79221159180709, 79.79575959948725, 80.79927764264542, 81.80276634421143, 82.80622630666485, 83.80965811294652, 84.81306232731913, 85.81643949618008, 86.81979014882985, 87.8231147981989, 88.8264139415355, 89.82968806105742, 90.83293762456937, 91.83616308604864, 92.83936488620073, 93.84254345298683, 94.84569920212512, 95.84883253756692, 96.8519438519498, 97.8550335270286, 98.85810193408574, 99.86114943432217]\n"
    }
   ],
   "source": [
    "def solow_graph(k,delta,n,A,s,alpha,t):\n",
    "    # array of k values\n",
    "    kvec = [k]\n",
    "    # savings path\n",
    "    svec = []\n",
    "    # depreciation path\n",
    "    deltavec = []\n",
    "\n",
    "\n",
    "    for t_ in range(1,t):\n",
    "        savings = s*A*t_**alpha\n",
    "        k_extended = t_ + savings - delta\n",
    "        depreciation_path = (delta+n)*t_\n",
    "        svec.append(savings)\n",
    "        kvec.append(k_extended)\n",
    "        deltavec.append(depreciation_path)\n",
    "    return kvec \n",
    "\n",
    "print(solow_graph(1,0.05,0.02,1,0.2,0.33,100))"
   ]
  },
  {
   "cell_type": "code",
   "execution_count": 433,
   "metadata": {},
   "outputs": [
    {
     "output_type": "stream",
     "name": "stdout",
     "text": "[]\n"
    }
   ],
   "source": [
    "print(svec)"
   ]
  },
  {
   "cell_type": "code",
   "execution_count": null,
   "metadata": {},
   "outputs": [],
   "source": []
  },
  {
   "cell_type": "code",
   "execution_count": null,
   "metadata": {},
   "outputs": [],
   "source": []
  }
 ],
 "metadata": {
  "kernelspec": {
   "display_name": "Python 3",
   "language": "python",
   "name": "python3"
  },
  "language_info": {
   "codemirror_mode": {
    "name": "ipython",
    "version": 3
   },
   "file_extension": ".py",
   "mimetype": "text/x-python",
   "name": "python",
   "nbconvert_exporter": "python",
   "pygments_lexer": "ipython3",
   "version": "3.7.4-final"
  },
  "toc-autonumbering": true
 },
 "nbformat": 4,
 "nbformat_minor": 4
}