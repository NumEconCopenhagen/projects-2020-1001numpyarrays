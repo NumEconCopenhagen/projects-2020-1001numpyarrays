{
 "cells": [
  {
   "cell_type": "markdown",
   "metadata": {},
   "source": [
    "# YOUR PROJECT TITLE"
   ]
  },
  {
   "cell_type": "markdown",
   "metadata": {},
   "source": [
    "> **Note the following:** \n",
    "> 1. This is *not* meant to be an example of an actual **model analysis project**, just an example of how to structure such a project.\n",
    "> 1. Remember the general advice on structuring and commenting your code from [lecture 5](https://numeconcopenhagen.netlify.com/lectures/Workflow_and_debugging).\n",
    "> 1. Remember this [guide](https://www.markdownguide.org/basic-syntax/) on markdown and (a bit of) latex.\n",
    "> 1. Turn on automatic numbering by clicking on the small icon on top of the table of contents in the left sidebar.\n",
    "> 1. The `modelproject.py` file includes a function which could be used multiple times in this notebook."
   ]
  },
  {
   "cell_type": "markdown",
   "metadata": {},
   "source": [
    "Imports and set magics:"
   ]
  },
  {
   "cell_type": "code",
   "execution_count": 1,
   "metadata": {},
   "outputs": [],
   "source": [
    "import numpy as np\n",
    "from scipy import optimize\n",
    "import sympy as sm\n",
    "from IPython.display import display\n",
    "import matplotlib.pyplot as plt\n",
    "# autoreload modules when code is run\n",
    "%load_ext autoreload\n",
    "%autoreload 2\n",
    "\n",
    "# local modules\n",
    "import modelproject"
   ]
  },
  {
   "cell_type": "markdown",
   "metadata": {
    "toc-hr-collapsed": true
   },
   "source": [
    "# The Basic Solow Model"
   ]
  },
  {
   "cell_type": "markdown",
   "metadata": {},
   "source": [
    "\n",
    "\\begin{equation}\n",
    "Y_t = AK_t^{\\alpha}L_t^{1-\\alpha} \\tag{1}\n",
    "\\end{equation}\n",
    "\\begin{equation}\n",
    "S_t = sY_t \\tag{2}\n",
    "\\end{equation}\n",
    "\\begin{equation}\n",
    "K_{t+1} - K_t = S_t -\\delta K_t \\tag{3}\n",
    "\\end{equation}\n",
    "\\begin{equation}\n",
    "L_{t+1} = (1+n)L_t \\tag{4}\n",
    "\\end{equation}\n",
    "\\begin{equation}\n",
    "y_t = \\frac{Y_t}{L_t} = Ak_t^{\\alpha} \\tag{5}\n",
    "\\end{equation}\n",
    "\\begin{equation}\n",
    "k_t = \\frac{K_t}{L_t} \\tag{6}\n",
    "\\end{equation}\n",
    "\n",
    "\n"
   ]
  },
  {
   "cell_type": "code",
   "execution_count": 2,
   "metadata": {},
   "outputs": [],
   "source": [
    "Y = sm.symbols(\"Y_t\")          #GDP in the economy\n",
    "y = sm.symbols(\"y_t\")          #GDP per worker\n",
    "K = sm.symbols(\"K_t\")          #Capital in the economy\n",
    "K_next = sm.symbols(\"K_{t+1}\") #Capital in the economy next period\n",
    "k = sm.symbols(\"k_t\")          #Capital per worker\n",
    "k_next = sm.symbols(\"k_{t+1}\") #Capital per worker\n",
    "s = sm.symbols(\"s\")            #Rate of savings\n",
    "n = sm.symbols(\"n\")            #Population growth\n",
    "g = sm.symbols(\"g\")            #Growth in technology\n",
    "A = sm.symbols(\"A\")            #Total factor productivity\n",
    "L = sm.symbols(\"L_t\")          #Labour\n",
    "L_next = sm.symbols(\"L_{t+1}\") #Labour next period\n",
    "alpha = sm.symbols(\"alpha\")    #Return on capital\n",
    "delta = sm.symbols(\"delta\")    #Depreciation rate on capital\n",
    "kstar = sm.symbols(\"k^*\")    #Steady state for capital\n",
    "ystar = sm.symbols(\"y^*\")      #Steady state for GDP per worker\n",
    "\n",
    ""
   ]
  },
  {
   "cell_type": "code",
   "execution_count": 3,
   "metadata": {},
   "outputs": [],
   "source": [
    "r = sm.symbols(\"r_t\")          #Real rental rate\n",
    "w = sm.symbols(\"w_t\")          #Real wage"
   ]
  },
  {
   "cell_type": "markdown",
   "metadata": {},
   "source": [
    "\\begin{equation}\n",
    "r_t = \\alpha A \\left(\\frac{K_t}{L_t}\\right)^{\\alpha-1} \\tag{7}\n",
    "\\end{equation}\n",
    "\\begin{equation}\n",
    "w_t = (1-\\alpha) A \\left(\\frac{K_t}{L_t}\\right)^{\\alpha-1} \\tag{8}\n",
    "\\end{equation}"
   ]
  },
  {
   "cell_type": "code",
   "execution_count": 4,
   "metadata": {},
   "outputs": [],
   "source": [
    "##production_function = sm.Eq(A * K**(alpha) * L**(1-alpha), Y)"
   ]
  },
  {
   "cell_type": "code",
   "execution_count": 5,
   "metadata": {},
   "outputs": [
    {
     "output_type": "execute_result",
     "data": {
      "text/plain": "Eq(A*K_t**(alpha - 1)*L_t**(1 - alpha)*alpha, r_t)",
      "text/latex": "$\\displaystyle A K_{t}^{\\alpha - 1} L_{t}^{1 - \\alpha} \\alpha = r_{t}$"
     },
     "metadata": {},
     "execution_count": 5
    }
   ],
   "source": [
    "foc_wrt_K = sm.Eq(sm.simplify(sm.diff(A * K**(alpha) * L**(1-alpha), K)),r)\n",
    "foc_wrt_K"
   ]
  },
  {
   "cell_type": "code",
   "execution_count": 6,
   "metadata": {},
   "outputs": [
    {
     "output_type": "execute_result",
     "data": {
      "text/plain": "Eq(-A*K_t**alpha*L_t**(-alpha)*(alpha - 1), w_t)",
      "text/latex": "$\\displaystyle - A K_{t}^{\\alpha} L_{t}^{- \\alpha} \\left(\\alpha - 1\\right) = w_{t}$"
     },
     "metadata": {},
     "execution_count": 6
    }
   ],
   "source": [
    "foc_wrt_L = sm.Eq(sm.simplify(sm.diff(A * K**(alpha) * L**(1-alpha), L)),w)\n",
    "foc_wrt_L"
   ]
  },
  {
   "cell_type": "markdown",
   "metadata": {},
   "source": [
    "# Capital Accumulation"
   ]
  },
  {
   "cell_type": "markdown",
   "metadata": {},
   "source": [
    "By inserting equation 1 in 2 and then inserting that in equation 3, finally we divide by equation 4 to end up at the transition equation"
   ]
  },
  {
   "cell_type": "code",
   "execution_count": 7,
   "metadata": {},
   "outputs": [],
   "source": [
    "Transition_equation = sm.simplify(sm.Eq((((1/(1+n))*(A*s*k**(alpha)+(1-delta)*k))), k_next))"
   ]
  },
  {
   "cell_type": "code",
   "execution_count": 8,
   "metadata": {},
   "outputs": [
    {
     "output_type": "execute_result",
     "data": {
      "text/plain": "Eq(k_{t+1}, (A*k_t**alpha*s - k_t*(delta - 1))/(n + 1))",
      "text/latex": "$\\displaystyle k_{t+1} = \\frac{A k_{t}^{\\alpha} s - k_{t} \\left(\\delta - 1\\right)}{n + 1}$"
     },
     "metadata": {},
     "execution_count": 8
    }
   ],
   "source": [
    "Transition_equation\n",
    ""
   ]
  },
  {
   "cell_type": "markdown",
   "metadata": {},
   "source": [
    "To find the steady state of capital, we use that $$\\begin{equation}\n",
    "k_{t+1}=k_t=k^*\n",
    "\\end{equation}$$\n",
    " in steady state.\n"
   ]
  },
  {
   "cell_type": "code",
   "execution_count": 9,
   "metadata": {},
   "outputs": [
    {
     "output_type": "execute_result",
     "data": {
      "text/plain": "((delta + n)/(A*s))**(1/(alpha - 1))",
      "text/latex": "$\\displaystyle \\left(\\frac{\\delta + n}{A s}\\right)^{\\frac{1}{\\alpha - 1}}$"
     },
     "metadata": {},
     "execution_count": 9
    }
   ],
   "source": [
    "steady_state_capital = sm.solve(((A*s*kstar**(alpha)-(delta-1)*kstar)/(1+n)-kstar), kstar)\n",
    "steady_state_capital[0]"
   ]
  },
  {
   "cell_type": "code",
   "execution_count": 10,
   "metadata": {},
   "outputs": [
    {
     "output_type": "execute_result",
     "data": {
      "text/plain": "Eq(((delta + n)/(A*s))**(1/(alpha - 1)), k^*)",
      "text/latex": "$\\displaystyle \\left(\\frac{\\delta + n}{A s}\\right)^{\\frac{1}{\\alpha - 1}} = k^{*}$"
     },
     "metadata": {},
     "execution_count": 10
    }
   ],
   "source": [
    "sm.Eq(steady_state_capital[0], kstar)"
   ]
  },
  {
   "cell_type": "markdown",
   "metadata": {},
   "source": [
    "Using this result and using equation 5, we get the following steady state output"
   ]
  },
  {
   "cell_type": "code",
   "execution_count": 11,
   "metadata": {},
   "outputs": [
    {
     "output_type": "execute_result",
     "data": {
      "text/plain": "Eq(y^*, A*(((delta + n)/(A*s))**(1/(alpha - 1)))**alpha)",
      "text/latex": "$\\displaystyle y^{*} = A \\left(\\left(\\frac{\\delta + n}{A s}\\right)^{\\frac{1}{\\alpha - 1}}\\right)^{\\alpha}$"
     },
     "metadata": {},
     "execution_count": 11
    }
   ],
   "source": [
    "steady_state_output = sm.simplify(A*steady_state_capital[0]**alpha)\n",
    "sm.Eq(ystar, steady_state_output)"
   ]
  },
  {
   "cell_type": "code",
   "execution_count": 235,
   "metadata": {},
   "outputs": [],
   "source": []
  },
  {
   "cell_type": "code",
   "execution_count": 12,
   "metadata": {},
   "outputs": [],
   "source": [
    "steady_state_capital_func = sm.lambdify((delta,n,A,s,alpha),steady_state_capital[0])\n",
    "\n",
    "def _steady_state_capital_func(delta,n,A,s,alpha):\n",
    "    return steady_state_capital_func(delta,n,A,s,alpha)\n",
    "\n",
    "\n",
    ""
   ]
  },
  {
   "cell_type": "code",
   "execution_count": 13,
   "metadata": {},
   "outputs": [
    {
     "output_type": "execute_result",
     "data": {
      "text/plain": "array([ 1.70293062,  4.79176439,  8.77643682, 13.48323044])"
     },
     "metadata": {},
     "execution_count": 13
    }
   ],
   "source": [
    "delta= 0.05\n",
    "n= 0.02\n",
    "A= 1\n",
    "savings_vec = np.array([0.1,0.2,0.3,0.4])\n",
    "alpha = 0.33\n",
    "steady_state_capital_func(delta,n,A,savings_vec,alpha)\n",
    ""
   ]
  },
  {
   "cell_type": "code",
   "execution_count": 168,
   "metadata": {},
   "outputs": [],
   "source": [
    "def solow_graph_1(k,delta,n,A,s,alpha,t):\n",
    "\n",
    "    kvec = [k]\n",
    "        # savings path\n",
    "    svec = []\n",
    "        # depreciation path\n",
    "    deltavec = []\n",
    "\n",
    "    for t_ in range(1,t):\n",
    "        depreciation = (delta+n)*t_\n",
    "        deltavec.append(depreciation)\n",
    "   \n",
    "\n",
    "    for t_ in range(1,t):\n",
    "        savings = s*A*t_**alpha\n",
    "        svec.append(savings)\n",
    "    \n",
    "\n",
    "    for t_ in range(1, t):\n",
    "        k_extended = A*t_**alpha\n",
    "        kvec.append(k_extended)\n",
    "    \n",
    "\n",
    "\n",
    "    plt.figure(figsize=(5,5))\n",
    "    plt.plot(kvec[:t], label='$Ak_t^{\\u03B1}$', color = 'blue')\n",
    "    plt.plot(deltavec[:t], label = '$(n+\\delta)k_t$', color = 'black')\n",
    "    plt.plot(svec[:t], label = '$sAk_t^{\\u03B1}$', color = 'red')\n",
    "    plt.xlim(0,t)\n",
    "    plt.ylim(0,deltavec[-1])\n",
    "    plt.xlabel('$k_t$')\n",
    "    plt.grid(True)\n",
    "    plt.legend()\n",
    "    return plt.show()"
   ]
  },
  {
   "cell_type": "code",
   "execution_count": 185,
   "metadata": {},
   "outputs": [
    {
     "output_type": "display_data",
     "data": {
      "text/plain": "<Figure size 360x360 with 1 Axes>",
      "image/svg+xml": "<?xml version=\"1.0\" encoding=\"utf-8\" standalone=\"no\"?>\n<!DOCTYPE svg PUBLIC \"-//W3C//DTD SVG 1.1//EN\"\n  \"http://www.w3.org/Graphics/SVG/1.1/DTD/svg11.dtd\">\n<!-- Created with matplotlib (http://matplotlib.org/) -->\n<svg height=\"320.05625pt\" version=\"1.1\" viewBox=\"0 0 322.66875 320.05625\" width=\"322.66875pt\" xmlns=\"http://www.w3.org/2000/svg\" xmlns:xlink=\"http://www.w3.org/1999/xlink\">\n <defs>\n  <style type=\"text/css\">\n*{stroke-linecap:butt;stroke-linejoin:round;}\n  </style>\n </defs>\n <g id=\"figure_1\">\n  <g id=\"patch_1\">\n   <path d=\"M 0 320.05625 \nL 322.66875 320.05625 \nL 322.66875 0 \nL 0 0 \nz\n\" style=\"fill:none;\"/>\n  </g>\n  <g id=\"axes_1\">\n   <g id=\"patch_2\">\n    <path d=\"M 26.925 282.5 \nL 305.925 282.5 \nL 305.925 10.7 \nL 26.925 10.7 \nz\n\" style=\"fill:#ffffff;\"/>\n   </g>\n   <g id=\"matplotlib.axis_1\">\n    <g id=\"xtick_1\">\n     <g id=\"line2d_1\">\n      <path clip-path=\"url(#p62a206f418)\" d=\"M 26.925 282.5 \nL 26.925 10.7 \n\" style=\"fill:none;stroke:#b0b0b0;stroke-linecap:square;stroke-width:0.8;\"/>\n     </g>\n     <g id=\"line2d_2\">\n      <defs>\n       <path d=\"M 0 0 \nL 0 3.5 \n\" id=\"m932f7b0d6c\" style=\"stroke:#000000;stroke-width:0.8;\"/>\n      </defs>\n      <g>\n       <use style=\"stroke:#000000;stroke-width:0.8;\" x=\"26.925\" xlink:href=\"#m932f7b0d6c\" y=\"282.5\"/>\n      </g>\n     </g>\n     <g id=\"text_1\">\n      <!-- 0 -->\n      <defs>\n       <path d=\"M 31.78125 66.40625 \nQ 24.171875 66.40625 20.328125 58.90625 \nQ 16.5 51.421875 16.5 36.375 \nQ 16.5 21.390625 20.328125 13.890625 \nQ 24.171875 6.390625 31.78125 6.390625 \nQ 39.453125 6.390625 43.28125 13.890625 \nQ 47.125 21.390625 47.125 36.375 \nQ 47.125 51.421875 43.28125 58.90625 \nQ 39.453125 66.40625 31.78125 66.40625 \nz\nM 31.78125 74.21875 \nQ 44.046875 74.21875 50.515625 64.515625 \nQ 56.984375 54.828125 56.984375 36.375 \nQ 56.984375 17.96875 50.515625 8.265625 \nQ 44.046875 -1.421875 31.78125 -1.421875 \nQ 19.53125 -1.421875 13.0625 8.265625 \nQ 6.59375 17.96875 6.59375 36.375 \nQ 6.59375 54.828125 13.0625 64.515625 \nQ 19.53125 74.21875 31.78125 74.21875 \nz\n\" id=\"DejaVuSans-30\"/>\n      </defs>\n      <g transform=\"translate(23.74375 297.098437)scale(0.1 -0.1)\">\n       <use xlink:href=\"#DejaVuSans-30\"/>\n      </g>\n     </g>\n    </g>\n    <g id=\"xtick_2\">\n     <g id=\"line2d_3\">\n      <path clip-path=\"url(#p62a206f418)\" d=\"M 61.8 282.5 \nL 61.8 10.7 \n\" style=\"fill:none;stroke:#b0b0b0;stroke-linecap:square;stroke-width:0.8;\"/>\n     </g>\n     <g id=\"line2d_4\">\n      <g>\n       <use style=\"stroke:#000000;stroke-width:0.8;\" x=\"61.8\" xlink:href=\"#m932f7b0d6c\" y=\"282.5\"/>\n      </g>\n     </g>\n     <g id=\"text_2\">\n      <!-- 25 -->\n      <defs>\n       <path d=\"M 19.1875 8.296875 \nL 53.609375 8.296875 \nL 53.609375 0 \nL 7.328125 0 \nL 7.328125 8.296875 \nQ 12.9375 14.109375 22.625 23.890625 \nQ 32.328125 33.6875 34.8125 36.53125 \nQ 39.546875 41.84375 41.421875 45.53125 \nQ 43.3125 49.21875 43.3125 52.78125 \nQ 43.3125 58.59375 39.234375 62.25 \nQ 35.15625 65.921875 28.609375 65.921875 \nQ 23.96875 65.921875 18.8125 64.3125 \nQ 13.671875 62.703125 7.8125 59.421875 \nL 7.8125 69.390625 \nQ 13.765625 71.78125 18.9375 73 \nQ 24.125 74.21875 28.421875 74.21875 \nQ 39.75 74.21875 46.484375 68.546875 \nQ 53.21875 62.890625 53.21875 53.421875 \nQ 53.21875 48.921875 51.53125 44.890625 \nQ 49.859375 40.875 45.40625 35.40625 \nQ 44.1875 33.984375 37.640625 27.21875 \nQ 31.109375 20.453125 19.1875 8.296875 \nz\n\" id=\"DejaVuSans-32\"/>\n       <path d=\"M 10.796875 72.90625 \nL 49.515625 72.90625 \nL 49.515625 64.59375 \nL 19.828125 64.59375 \nL 19.828125 46.734375 \nQ 21.96875 47.46875 24.109375 47.828125 \nQ 26.265625 48.1875 28.421875 48.1875 \nQ 40.625 48.1875 47.75 41.5 \nQ 54.890625 34.8125 54.890625 23.390625 \nQ 54.890625 11.625 47.5625 5.09375 \nQ 40.234375 -1.421875 26.90625 -1.421875 \nQ 22.3125 -1.421875 17.546875 -0.640625 \nQ 12.796875 0.140625 7.71875 1.703125 \nL 7.71875 11.625 \nQ 12.109375 9.234375 16.796875 8.0625 \nQ 21.484375 6.890625 26.703125 6.890625 \nQ 35.15625 6.890625 40.078125 11.328125 \nQ 45.015625 15.765625 45.015625 23.390625 \nQ 45.015625 31 40.078125 35.4375 \nQ 35.15625 39.890625 26.703125 39.890625 \nQ 22.75 39.890625 18.8125 39.015625 \nQ 14.890625 38.140625 10.796875 36.28125 \nz\n\" id=\"DejaVuSans-35\"/>\n      </defs>\n      <g transform=\"translate(55.4375 297.098437)scale(0.1 -0.1)\">\n       <use xlink:href=\"#DejaVuSans-32\"/>\n       <use x=\"63.623047\" xlink:href=\"#DejaVuSans-35\"/>\n      </g>\n     </g>\n    </g>\n    <g id=\"xtick_3\">\n     <g id=\"line2d_5\">\n      <path clip-path=\"url(#p62a206f418)\" d=\"M 96.675 282.5 \nL 96.675 10.7 \n\" style=\"fill:none;stroke:#b0b0b0;stroke-linecap:square;stroke-width:0.8;\"/>\n     </g>\n     <g id=\"line2d_6\">\n      <g>\n       <use style=\"stroke:#000000;stroke-width:0.8;\" x=\"96.675\" xlink:href=\"#m932f7b0d6c\" y=\"282.5\"/>\n      </g>\n     </g>\n     <g id=\"text_3\">\n      <!-- 50 -->\n      <g transform=\"translate(90.3125 297.098437)scale(0.1 -0.1)\">\n       <use xlink:href=\"#DejaVuSans-35\"/>\n       <use x=\"63.623047\" xlink:href=\"#DejaVuSans-30\"/>\n      </g>\n     </g>\n    </g>\n    <g id=\"xtick_4\">\n     <g id=\"line2d_7\">\n      <path clip-path=\"url(#p62a206f418)\" d=\"M 131.55 282.5 \nL 131.55 10.7 \n\" style=\"fill:none;stroke:#b0b0b0;stroke-linecap:square;stroke-width:0.8;\"/>\n     </g>\n     <g id=\"line2d_8\">\n      <g>\n       <use style=\"stroke:#000000;stroke-width:0.8;\" x=\"131.55\" xlink:href=\"#m932f7b0d6c\" y=\"282.5\"/>\n      </g>\n     </g>\n     <g id=\"text_4\">\n      <!-- 75 -->\n      <defs>\n       <path d=\"M 8.203125 72.90625 \nL 55.078125 72.90625 \nL 55.078125 68.703125 \nL 28.609375 0 \nL 18.3125 0 \nL 43.21875 64.59375 \nL 8.203125 64.59375 \nz\n\" id=\"DejaVuSans-37\"/>\n      </defs>\n      <g transform=\"translate(125.1875 297.098437)scale(0.1 -0.1)\">\n       <use xlink:href=\"#DejaVuSans-37\"/>\n       <use x=\"63.623047\" xlink:href=\"#DejaVuSans-35\"/>\n      </g>\n     </g>\n    </g>\n    <g id=\"xtick_5\">\n     <g id=\"line2d_9\">\n      <path clip-path=\"url(#p62a206f418)\" d=\"M 166.425 282.5 \nL 166.425 10.7 \n\" style=\"fill:none;stroke:#b0b0b0;stroke-linecap:square;stroke-width:0.8;\"/>\n     </g>\n     <g id=\"line2d_10\">\n      <g>\n       <use style=\"stroke:#000000;stroke-width:0.8;\" x=\"166.425\" xlink:href=\"#m932f7b0d6c\" y=\"282.5\"/>\n      </g>\n     </g>\n     <g id=\"text_5\">\n      <!-- 100 -->\n      <defs>\n       <path d=\"M 12.40625 8.296875 \nL 28.515625 8.296875 \nL 28.515625 63.921875 \nL 10.984375 60.40625 \nL 10.984375 69.390625 \nL 28.421875 72.90625 \nL 38.28125 72.90625 \nL 38.28125 8.296875 \nL 54.390625 8.296875 \nL 54.390625 0 \nL 12.40625 0 \nz\n\" id=\"DejaVuSans-31\"/>\n      </defs>\n      <g transform=\"translate(156.88125 297.098437)scale(0.1 -0.1)\">\n       <use xlink:href=\"#DejaVuSans-31\"/>\n       <use x=\"63.623047\" xlink:href=\"#DejaVuSans-30\"/>\n       <use x=\"127.246094\" xlink:href=\"#DejaVuSans-30\"/>\n      </g>\n     </g>\n    </g>\n    <g id=\"xtick_6\">\n     <g id=\"line2d_11\">\n      <path clip-path=\"url(#p62a206f418)\" d=\"M 201.3 282.5 \nL 201.3 10.7 \n\" style=\"fill:none;stroke:#b0b0b0;stroke-linecap:square;stroke-width:0.8;\"/>\n     </g>\n     <g id=\"line2d_12\">\n      <g>\n       <use style=\"stroke:#000000;stroke-width:0.8;\" x=\"201.3\" xlink:href=\"#m932f7b0d6c\" y=\"282.5\"/>\n      </g>\n     </g>\n     <g id=\"text_6\">\n      <!-- 125 -->\n      <g transform=\"translate(191.75625 297.098437)scale(0.1 -0.1)\">\n       <use xlink:href=\"#DejaVuSans-31\"/>\n       <use x=\"63.623047\" xlink:href=\"#DejaVuSans-32\"/>\n       <use x=\"127.246094\" xlink:href=\"#DejaVuSans-35\"/>\n      </g>\n     </g>\n    </g>\n    <g id=\"xtick_7\">\n     <g id=\"line2d_13\">\n      <path clip-path=\"url(#p62a206f418)\" d=\"M 236.175 282.5 \nL 236.175 10.7 \n\" style=\"fill:none;stroke:#b0b0b0;stroke-linecap:square;stroke-width:0.8;\"/>\n     </g>\n     <g id=\"line2d_14\">\n      <g>\n       <use style=\"stroke:#000000;stroke-width:0.8;\" x=\"236.175\" xlink:href=\"#m932f7b0d6c\" y=\"282.5\"/>\n      </g>\n     </g>\n     <g id=\"text_7\">\n      <!-- 150 -->\n      <g transform=\"translate(226.63125 297.098437)scale(0.1 -0.1)\">\n       <use xlink:href=\"#DejaVuSans-31\"/>\n       <use x=\"63.623047\" xlink:href=\"#DejaVuSans-35\"/>\n       <use x=\"127.246094\" xlink:href=\"#DejaVuSans-30\"/>\n      </g>\n     </g>\n    </g>\n    <g id=\"xtick_8\">\n     <g id=\"line2d_15\">\n      <path clip-path=\"url(#p62a206f418)\" d=\"M 271.05 282.5 \nL 271.05 10.7 \n\" style=\"fill:none;stroke:#b0b0b0;stroke-linecap:square;stroke-width:0.8;\"/>\n     </g>\n     <g id=\"line2d_16\">\n      <g>\n       <use style=\"stroke:#000000;stroke-width:0.8;\" x=\"271.05\" xlink:href=\"#m932f7b0d6c\" y=\"282.5\"/>\n      </g>\n     </g>\n     <g id=\"text_8\">\n      <!-- 175 -->\n      <g transform=\"translate(261.50625 297.098437)scale(0.1 -0.1)\">\n       <use xlink:href=\"#DejaVuSans-31\"/>\n       <use x=\"63.623047\" xlink:href=\"#DejaVuSans-37\"/>\n       <use x=\"127.246094\" xlink:href=\"#DejaVuSans-35\"/>\n      </g>\n     </g>\n    </g>\n    <g id=\"xtick_9\">\n     <g id=\"line2d_17\">\n      <path clip-path=\"url(#p62a206f418)\" d=\"M 305.925 282.5 \nL 305.925 10.7 \n\" style=\"fill:none;stroke:#b0b0b0;stroke-linecap:square;stroke-width:0.8;\"/>\n     </g>\n     <g id=\"line2d_18\">\n      <g>\n       <use style=\"stroke:#000000;stroke-width:0.8;\" x=\"305.925\" xlink:href=\"#m932f7b0d6c\" y=\"282.5\"/>\n      </g>\n     </g>\n     <g id=\"text_9\">\n      <!-- 200 -->\n      <g transform=\"translate(296.38125 297.098437)scale(0.1 -0.1)\">\n       <use xlink:href=\"#DejaVuSans-32\"/>\n       <use x=\"63.623047\" xlink:href=\"#DejaVuSans-30\"/>\n       <use x=\"127.246094\" xlink:href=\"#DejaVuSans-30\"/>\n      </g>\n     </g>\n    </g>\n    <g id=\"text_10\">\n     <!-- $k_t$ -->\n     <defs>\n      <path d=\"M 18.3125 75.984375 \nL 27.296875 75.984375 \nL 18.703125 31.6875 \nL 49.515625 54.6875 \nL 61.1875 54.6875 \nL 26.8125 28.515625 \nL 51.90625 0 \nL 41.015625 0 \nL 17.671875 26.703125 \nL 12.5 0 \nL 3.515625 0 \nz\n\" id=\"DejaVuSans-Oblique-6b\"/>\n      <path d=\"M 42.28125 54.6875 \nL 40.921875 47.703125 \nL 23 47.703125 \nL 17.1875 18.015625 \nQ 16.890625 16.359375 16.75 15.234375 \nQ 16.609375 14.109375 16.609375 13.484375 \nQ 16.609375 10.359375 18.484375 8.9375 \nQ 20.359375 7.515625 24.515625 7.515625 \nL 33.59375 7.515625 \nL 32.078125 0 \nL 23.484375 0 \nQ 15.484375 0 11.546875 3.125 \nQ 7.625 6.25 7.625 12.59375 \nQ 7.625 13.71875 7.765625 15.0625 \nQ 7.90625 16.40625 8.203125 18.015625 \nL 14.015625 47.703125 \nL 6.390625 47.703125 \nL 7.8125 54.6875 \nL 15.28125 54.6875 \nL 18.3125 70.21875 \nL 27.296875 70.21875 \nL 24.3125 54.6875 \nz\n\" id=\"DejaVuSans-Oblique-74\"/>\n     </defs>\n     <g transform=\"translate(161.975 310.776562)scale(0.1 -0.1)\">\n      <use transform=\"translate(0 0.015625)\" xlink:href=\"#DejaVuSans-Oblique-6b\"/>\n      <use transform=\"translate(57.910156 -16.390625)scale(0.7)\" xlink:href=\"#DejaVuSans-Oblique-74\"/>\n     </g>\n    </g>\n   </g>\n   <g id=\"matplotlib.axis_2\">\n    <g id=\"ytick_1\">\n     <g id=\"line2d_19\">\n      <path clip-path=\"url(#p62a206f418)\" d=\"M 26.925 282.5 \nL 305.925 282.5 \n\" style=\"fill:none;stroke:#b0b0b0;stroke-linecap:square;stroke-width:0.8;\"/>\n     </g>\n     <g id=\"line2d_20\">\n      <defs>\n       <path d=\"M 0 0 \nL -3.5 0 \n\" id=\"mb7099bb3f1\" style=\"stroke:#000000;stroke-width:0.8;\"/>\n      </defs>\n      <g>\n       <use style=\"stroke:#000000;stroke-width:0.8;\" x=\"26.925\" xlink:href=\"#mb7099bb3f1\" y=\"282.5\"/>\n      </g>\n     </g>\n     <g id=\"text_11\">\n      <!-- 0 -->\n      <g transform=\"translate(13.5625 286.299219)scale(0.1 -0.1)\">\n       <use xlink:href=\"#DejaVuSans-30\"/>\n      </g>\n     </g>\n    </g>\n    <g id=\"ytick_2\">\n     <g id=\"line2d_21\">\n      <path clip-path=\"url(#p62a206f418)\" d=\"M 26.925 243.47631 \nL 305.925 243.47631 \n\" style=\"fill:none;stroke:#b0b0b0;stroke-linecap:square;stroke-width:0.8;\"/>\n     </g>\n     <g id=\"line2d_22\">\n      <g>\n       <use style=\"stroke:#000000;stroke-width:0.8;\" x=\"26.925\" xlink:href=\"#mb7099bb3f1\" y=\"243.47631\"/>\n      </g>\n     </g>\n     <g id=\"text_12\">\n      <!-- 2 -->\n      <g transform=\"translate(13.5625 247.275529)scale(0.1 -0.1)\">\n       <use xlink:href=\"#DejaVuSans-32\"/>\n      </g>\n     </g>\n    </g>\n    <g id=\"ytick_3\">\n     <g id=\"line2d_23\">\n      <path clip-path=\"url(#p62a206f418)\" d=\"M 26.925 204.45262 \nL 305.925 204.45262 \n\" style=\"fill:none;stroke:#b0b0b0;stroke-linecap:square;stroke-width:0.8;\"/>\n     </g>\n     <g id=\"line2d_24\">\n      <g>\n       <use style=\"stroke:#000000;stroke-width:0.8;\" x=\"26.925\" xlink:href=\"#mb7099bb3f1\" y=\"204.45262\"/>\n      </g>\n     </g>\n     <g id=\"text_13\">\n      <!-- 4 -->\n      <defs>\n       <path d=\"M 37.796875 64.3125 \nL 12.890625 25.390625 \nL 37.796875 25.390625 \nz\nM 35.203125 72.90625 \nL 47.609375 72.90625 \nL 47.609375 25.390625 \nL 58.015625 25.390625 \nL 58.015625 17.1875 \nL 47.609375 17.1875 \nL 47.609375 0 \nL 37.796875 0 \nL 37.796875 17.1875 \nL 4.890625 17.1875 \nL 4.890625 26.703125 \nz\n\" id=\"DejaVuSans-34\"/>\n      </defs>\n      <g transform=\"translate(13.5625 208.251839)scale(0.1 -0.1)\">\n       <use xlink:href=\"#DejaVuSans-34\"/>\n      </g>\n     </g>\n    </g>\n    <g id=\"ytick_4\">\n     <g id=\"line2d_25\">\n      <path clip-path=\"url(#p62a206f418)\" d=\"M 26.925 165.42893 \nL 305.925 165.42893 \n\" style=\"fill:none;stroke:#b0b0b0;stroke-linecap:square;stroke-width:0.8;\"/>\n     </g>\n     <g id=\"line2d_26\">\n      <g>\n       <use style=\"stroke:#000000;stroke-width:0.8;\" x=\"26.925\" xlink:href=\"#mb7099bb3f1\" y=\"165.42893\"/>\n      </g>\n     </g>\n     <g id=\"text_14\">\n      <!-- 6 -->\n      <defs>\n       <path d=\"M 33.015625 40.375 \nQ 26.375 40.375 22.484375 35.828125 \nQ 18.609375 31.296875 18.609375 23.390625 \nQ 18.609375 15.53125 22.484375 10.953125 \nQ 26.375 6.390625 33.015625 6.390625 \nQ 39.65625 6.390625 43.53125 10.953125 \nQ 47.40625 15.53125 47.40625 23.390625 \nQ 47.40625 31.296875 43.53125 35.828125 \nQ 39.65625 40.375 33.015625 40.375 \nz\nM 52.59375 71.296875 \nL 52.59375 62.3125 \nQ 48.875 64.0625 45.09375 64.984375 \nQ 41.3125 65.921875 37.59375 65.921875 \nQ 27.828125 65.921875 22.671875 59.328125 \nQ 17.53125 52.734375 16.796875 39.40625 \nQ 19.671875 43.65625 24.015625 45.921875 \nQ 28.375 48.1875 33.59375 48.1875 \nQ 44.578125 48.1875 50.953125 41.515625 \nQ 57.328125 34.859375 57.328125 23.390625 \nQ 57.328125 12.15625 50.6875 5.359375 \nQ 44.046875 -1.421875 33.015625 -1.421875 \nQ 20.359375 -1.421875 13.671875 8.265625 \nQ 6.984375 17.96875 6.984375 36.375 \nQ 6.984375 53.65625 15.1875 63.9375 \nQ 23.390625 74.21875 37.203125 74.21875 \nQ 40.921875 74.21875 44.703125 73.484375 \nQ 48.484375 72.75 52.59375 71.296875 \nz\n\" id=\"DejaVuSans-36\"/>\n      </defs>\n      <g transform=\"translate(13.5625 169.228149)scale(0.1 -0.1)\">\n       <use xlink:href=\"#DejaVuSans-36\"/>\n      </g>\n     </g>\n    </g>\n    <g id=\"ytick_5\">\n     <g id=\"line2d_27\">\n      <path clip-path=\"url(#p62a206f418)\" d=\"M 26.925 126.40524 \nL 305.925 126.40524 \n\" style=\"fill:none;stroke:#b0b0b0;stroke-linecap:square;stroke-width:0.8;\"/>\n     </g>\n     <g id=\"line2d_28\">\n      <g>\n       <use style=\"stroke:#000000;stroke-width:0.8;\" x=\"26.925\" xlink:href=\"#mb7099bb3f1\" y=\"126.40524\"/>\n      </g>\n     </g>\n     <g id=\"text_15\">\n      <!-- 8 -->\n      <defs>\n       <path d=\"M 31.78125 34.625 \nQ 24.75 34.625 20.71875 30.859375 \nQ 16.703125 27.09375 16.703125 20.515625 \nQ 16.703125 13.921875 20.71875 10.15625 \nQ 24.75 6.390625 31.78125 6.390625 \nQ 38.8125 6.390625 42.859375 10.171875 \nQ 46.921875 13.96875 46.921875 20.515625 \nQ 46.921875 27.09375 42.890625 30.859375 \nQ 38.875 34.625 31.78125 34.625 \nz\nM 21.921875 38.8125 \nQ 15.578125 40.375 12.03125 44.71875 \nQ 8.5 49.078125 8.5 55.328125 \nQ 8.5 64.0625 14.71875 69.140625 \nQ 20.953125 74.21875 31.78125 74.21875 \nQ 42.671875 74.21875 48.875 69.140625 \nQ 55.078125 64.0625 55.078125 55.328125 \nQ 55.078125 49.078125 51.53125 44.71875 \nQ 48 40.375 41.703125 38.8125 \nQ 48.828125 37.15625 52.796875 32.3125 \nQ 56.78125 27.484375 56.78125 20.515625 \nQ 56.78125 9.90625 50.3125 4.234375 \nQ 43.84375 -1.421875 31.78125 -1.421875 \nQ 19.734375 -1.421875 13.25 4.234375 \nQ 6.78125 9.90625 6.78125 20.515625 \nQ 6.78125 27.484375 10.78125 32.3125 \nQ 14.796875 37.15625 21.921875 38.8125 \nz\nM 18.3125 54.390625 \nQ 18.3125 48.734375 21.84375 45.5625 \nQ 25.390625 42.390625 31.78125 42.390625 \nQ 38.140625 42.390625 41.71875 45.5625 \nQ 45.3125 48.734375 45.3125 54.390625 \nQ 45.3125 60.0625 41.71875 63.234375 \nQ 38.140625 66.40625 31.78125 66.40625 \nQ 25.390625 66.40625 21.84375 63.234375 \nQ 18.3125 60.0625 18.3125 54.390625 \nz\n\" id=\"DejaVuSans-38\"/>\n      </defs>\n      <g transform=\"translate(13.5625 130.204459)scale(0.1 -0.1)\">\n       <use xlink:href=\"#DejaVuSans-38\"/>\n      </g>\n     </g>\n    </g>\n    <g id=\"ytick_6\">\n     <g id=\"line2d_29\">\n      <path clip-path=\"url(#p62a206f418)\" d=\"M 26.925 87.381551 \nL 305.925 87.381551 \n\" style=\"fill:none;stroke:#b0b0b0;stroke-linecap:square;stroke-width:0.8;\"/>\n     </g>\n     <g id=\"line2d_30\">\n      <g>\n       <use style=\"stroke:#000000;stroke-width:0.8;\" x=\"26.925\" xlink:href=\"#mb7099bb3f1\" y=\"87.381551\"/>\n      </g>\n     </g>\n     <g id=\"text_16\">\n      <!-- 10 -->\n      <g transform=\"translate(7.2 91.180769)scale(0.1 -0.1)\">\n       <use xlink:href=\"#DejaVuSans-31\"/>\n       <use x=\"63.623047\" xlink:href=\"#DejaVuSans-30\"/>\n      </g>\n     </g>\n    </g>\n    <g id=\"ytick_7\">\n     <g id=\"line2d_31\">\n      <path clip-path=\"url(#p62a206f418)\" d=\"M 26.925 48.357861 \nL 305.925 48.357861 \n\" style=\"fill:none;stroke:#b0b0b0;stroke-linecap:square;stroke-width:0.8;\"/>\n     </g>\n     <g id=\"line2d_32\">\n      <g>\n       <use style=\"stroke:#000000;stroke-width:0.8;\" x=\"26.925\" xlink:href=\"#mb7099bb3f1\" y=\"48.357861\"/>\n      </g>\n     </g>\n     <g id=\"text_17\">\n      <!-- 12 -->\n      <g transform=\"translate(7.2 52.157079)scale(0.1 -0.1)\">\n       <use xlink:href=\"#DejaVuSans-31\"/>\n       <use x=\"63.623047\" xlink:href=\"#DejaVuSans-32\"/>\n      </g>\n     </g>\n    </g>\n   </g>\n   <g id=\"line2d_33\">\n    <path clip-path=\"url(#p62a206f418)\" d=\"M 26.925 280.548816 \nL 28.32 262.988155 \nL 29.715 257.97335 \nL 31.11 254.461915 \nL 32.505 251.669673 \nL 33.9 249.31373 \nL 35.295 247.255752 \nL 38.085 243.745866 \nL 40.875 240.784415 \nL 43.665 238.197509 \nL 46.455 235.885547 \nL 50.64 232.801134 \nL 54.825 230.062952 \nL 59.01 227.587841 \nL 64.59 224.604024 \nL 70.17 221.903478 \nL 75.75 219.427392 \nL 82.725 216.585929 \nL 89.7 213.973513 \nL 98.07 211.08384 \nL 106.44 208.413848 \nL 116.205 205.527122 \nL 127.365 202.476405 \nL 139.92 199.304777 \nL 152.475 196.36129 \nL 166.425 193.313661 \nL 181.77 190.188689 \nL 198.51 187.007993 \nL 216.645 183.788858 \nL 236.175 180.545018 \nL 257.1 177.287331 \nL 280.815 173.826941 \nL 304.53 170.576869 \nL 304.53 170.576869 \n\" style=\"fill:none;stroke:#0000ff;stroke-linecap:square;stroke-width:1.5;\"/>\n   </g>\n   <g id=\"line2d_34\">\n    <path clip-path=\"url(#p62a206f418)\" d=\"M 26.925 281.134171 \nL 303.135 10.7 \nL 303.135 10.7 \n\" style=\"fill:none;stroke:#000000;stroke-linecap:square;stroke-width:1.5;\"/>\n   </g>\n   <g id=\"line2d_35\">\n    <path clip-path=\"url(#p62a206f418)\" d=\"M 26.925 274.695262 \nL 28.32 272.68934 \nL 29.715 271.284766 \nL 31.11 270.167869 \nL 33.9 268.402301 \nL 36.69 266.998347 \nL 39.48 265.813766 \nL 43.665 264.304683 \nL 47.85 263.014214 \nL 53.43 261.525181 \nL 60.405 259.922361 \nL 68.775 258.261391 \nL 78.54 256.576901 \nL 89.7 254.889873 \nL 102.255 253.212789 \nL 117.6 251.396603 \nL 135.735 249.49534 \nL 156.66 247.546512 \nL 180.375 245.575476 \nL 206.88 243.599101 \nL 237.57 241.539362 \nL 272.445 239.428549 \nL 303.135 237.730748 \nL 303.135 237.730748 \n\" style=\"fill:none;stroke:#ff0000;stroke-linecap:square;stroke-width:1.5;\"/>\n   </g>\n   <g id=\"patch_3\">\n    <path d=\"M 26.925 282.5 \nL 26.925 10.7 \n\" style=\"fill:none;stroke:#000000;stroke-linecap:square;stroke-linejoin:miter;stroke-width:0.8;\"/>\n   </g>\n   <g id=\"patch_4\">\n    <path d=\"M 305.925 282.5 \nL 305.925 10.7 \n\" style=\"fill:none;stroke:#000000;stroke-linecap:square;stroke-linejoin:miter;stroke-width:0.8;\"/>\n   </g>\n   <g id=\"patch_5\">\n    <path d=\"M 26.925 282.5 \nL 305.925 282.5 \n\" style=\"fill:none;stroke:#000000;stroke-linecap:square;stroke-linejoin:miter;stroke-width:0.8;\"/>\n   </g>\n   <g id=\"patch_6\">\n    <path d=\"M 26.925 10.7 \nL 305.925 10.7 \n\" style=\"fill:none;stroke:#000000;stroke-linecap:square;stroke-linejoin:miter;stroke-width:0.8;\"/>\n   </g>\n   <g id=\"legend_1\">\n    <g id=\"patch_7\">\n     <path d=\"M 33.925 64.578125 \nL 107.325 64.578125 \nQ 109.325 64.578125 109.325 62.578125 \nL 109.325 17.7 \nQ 109.325 15.7 107.325 15.7 \nL 33.925 15.7 \nQ 31.925 15.7 31.925 17.7 \nL 31.925 62.578125 \nQ 31.925 64.578125 33.925 64.578125 \nz\n\" style=\"fill:#ffffff;opacity:0.8;stroke:#cccccc;stroke-linejoin:miter;\"/>\n    </g>\n    <g id=\"line2d_36\">\n     <path d=\"M 35.925 24 \nL 55.925 24 \n\" style=\"fill:none;stroke:#0000ff;stroke-linecap:square;stroke-width:1.5;\"/>\n    </g>\n    <g id=\"line2d_37\"/>\n    <g id=\"text_18\">\n     <!-- $Ak_t^{α}$ -->\n     <defs>\n      <path d=\"M 36.8125 72.90625 \nL 48 72.90625 \nL 61.53125 0 \nL 51.21875 0 \nL 48.1875 18.703125 \nL 15.375 18.703125 \nL 5.078125 0 \nL -5.328125 0 \nz\nM 40.375 63.1875 \nL 19.921875 26.90625 \nL 46.6875 26.90625 \nz\n\" id=\"DejaVuSans-Oblique-41\"/>\n      <path d=\"M 40.921875 25.4375 \nL 40.96875 36.71875 \nQ 41.015625 48.25 32.328125 48.296875 \nQ 25.828125 48.34375 21.78125 42.921875 \nQ 16.703125 36.234375 14.984375 27.296875 \nQ 12.890625 16.546875 15.53125 11.421875 \nQ 18.265625 6.203125 24.171875 6.203125 \nQ 30.71875 6.203125 36.234375 16.609375 \nz\nM 33.84375 55.90625 \nQ 49.078125 56.15625 48.875 40.375 \nQ 48.875 40.375 56.5 54.6875 \nL 64.5 54.6875 \nL 48.734375 25.046875 \nL 48.578125 14.359375 \nQ 48.578125 11.96875 49.90625 9.96875 \nQ 51.421875 7.625 52.984375 7.625 \nL 57.328125 7.625 \nL 55.859375 0 \nL 50.4375 0 \nQ 45.84375 0 42.53125 4.109375 \nQ 40.96875 6.15625 40.921875 10.453125 \nQ 37.75 5.21875 32.28125 0.78125 \nQ 29.6875 -1.265625 22.703125 -1.21875 \nQ 11.28125 -1.125 7.125 6.203125 \nQ 2.875 13.8125 5.515625 27.296875 \nQ 8.34375 41.796875 15.765625 48.390625 \nQ 24.125 55.765625 33.84375 55.90625 \nz\n\" id=\"DejaVuSans-Oblique-3b1\"/>\n     </defs>\n     <g transform=\"translate(63.925 27.5)scale(0.1 -0.1)\">\n      <use transform=\"translate(0 0.409375)\" xlink:href=\"#DejaVuSans-Oblique-41\"/>\n      <use transform=\"translate(68.408203 0.409375)\" xlink:href=\"#DejaVuSans-Oblique-6b\"/>\n      <use transform=\"translate(133.766068 38.690625)scale(0.7)\" xlink:href=\"#DejaVuSans-Oblique-3b1\"/>\n      <use transform=\"translate(126.318359 -26.934375)scale(0.7)\" xlink:href=\"#DejaVuSans-Oblique-74\"/>\n     </g>\n    </g>\n    <g id=\"line2d_38\">\n     <path d=\"M 35.925 39.398438 \nL 55.925 39.398438 \n\" style=\"fill:none;stroke:#000000;stroke-linecap:square;stroke-width:1.5;\"/>\n    </g>\n    <g id=\"line2d_39\"/>\n    <g id=\"text_19\">\n     <!-- $(n+\\delta)k_t$ -->\n     <defs>\n      <path d=\"M 31 75.875 \nQ 24.46875 64.65625 21.28125 53.65625 \nQ 18.109375 42.671875 18.109375 31.390625 \nQ 18.109375 20.125 21.3125 9.0625 \nQ 24.515625 -2 31 -13.1875 \nL 23.1875 -13.1875 \nQ 15.875 -1.703125 12.234375 9.375 \nQ 8.59375 20.453125 8.59375 31.390625 \nQ 8.59375 42.28125 12.203125 53.3125 \nQ 15.828125 64.359375 23.1875 75.875 \nz\n\" id=\"DejaVuSans-28\"/>\n      <path d=\"M 55.71875 33.015625 \nL 49.3125 0 \nL 40.28125 0 \nL 46.6875 32.671875 \nQ 47.125 34.96875 47.359375 36.71875 \nQ 47.609375 38.484375 47.609375 39.5 \nQ 47.609375 43.609375 45.015625 45.890625 \nQ 42.4375 48.1875 37.796875 48.1875 \nQ 30.5625 48.1875 25.34375 43.375 \nQ 20.125 38.578125 18.5 30.328125 \nL 12.5 0 \nL 3.515625 0 \nL 14.109375 54.6875 \nL 23.09375 54.6875 \nL 21.296875 46.09375 \nQ 25.046875 50.828125 30.3125 53.40625 \nQ 35.59375 56 41.40625 56 \nQ 48.640625 56 52.609375 52.09375 \nQ 56.59375 48.1875 56.59375 41.109375 \nQ 56.59375 39.359375 56.375 37.359375 \nQ 56.15625 35.359375 55.71875 33.015625 \nz\n\" id=\"DejaVuSans-Oblique-6e\"/>\n      <path d=\"M 46 62.703125 \nL 46 35.5 \nL 73.1875 35.5 \nL 73.1875 27.203125 \nL 46 27.203125 \nL 46 0 \nL 37.796875 0 \nL 37.796875 27.203125 \nL 10.59375 27.203125 \nL 10.59375 35.5 \nL 37.796875 35.5 \nL 37.796875 62.703125 \nz\n\" id=\"DejaVuSans-2b\"/>\n      <path d=\"M 54.25 63.328125 \nQ 49.953125 66.75 38.28125 66.75 \nQ 25.921875 66.75 24.8125 61.03125 \nQ 23.921875 56.546875 36.375 54.203125 \nQ 46.140625 52.390625 50.828125 46.921875 \nQ 56.5 40.328125 53.859375 26.8125 \nQ 51.3125 13.875 43.171875 6.25 \nQ 34.96875 -1.421875 23.25 -1.421875 \nQ 11.578125 -1.421875 6.34375 6.25 \nQ 1.125 13.875 3.765625 27.296875 \nQ 5.671875 37.25 13.921875 45.3125 \nQ 17.140625 48.4375 21.140625 50.203125 \nQ 14.265625 54.046875 15.625 60.9375 \nQ 18.21875 74.21875 39.75 74.21875 \nQ 50.53125 74.21875 55.71875 70.796875 \nz\nM 27.390625 47.75 \nQ 23.828125 46.34375 20.40625 42.78125 \nQ 15.140625 37.25 13.234375 27.296875 \nQ 11.28125 17.390625 14.359375 11.8125 \nQ 17.484375 6.203125 24.75 6.203125 \nQ 31.9375 6.203125 37.203125 11.859375 \nQ 42.53125 17.53125 44.34375 26.8125 \nQ 46.1875 36.53125 42.671875 41.21875 \nQ 38.921875 46.234375 32.859375 46.78125 \nQ 29.78125 47.078125 27.390625 47.75 \nz\n\" id=\"DejaVuSans-Oblique-3b4\"/>\n      <path d=\"M 8.015625 75.875 \nL 15.828125 75.875 \nQ 23.140625 64.359375 26.78125 53.3125 \nQ 30.421875 42.28125 30.421875 31.390625 \nQ 30.421875 20.453125 26.78125 9.375 \nQ 23.140625 -1.703125 15.828125 -13.1875 \nL 8.015625 -13.1875 \nQ 14.5 -2 17.703125 9.0625 \nQ 20.90625 20.125 20.90625 31.390625 \nQ 20.90625 42.671875 17.703125 53.65625 \nQ 14.5 64.65625 8.015625 75.875 \nz\n\" id=\"DejaVuSans-29\"/>\n     </defs>\n     <g transform=\"translate(63.925 42.898438)scale(0.1 -0.1)\">\n      <use transform=\"translate(0 0.015625)\" xlink:href=\"#DejaVuSans-28\"/>\n      <use transform=\"translate(39.013672 0.015625)\" xlink:href=\"#DejaVuSans-Oblique-6e\"/>\n      <use transform=\"translate(121.875 0.015625)\" xlink:href=\"#DejaVuSans-2b\"/>\n      <use transform=\"translate(225.146484 0.015625)\" xlink:href=\"#DejaVuSans-Oblique-3b4\"/>\n      <use transform=\"translate(286.328125 0.015625)\" xlink:href=\"#DejaVuSans-29\"/>\n      <use transform=\"translate(325.341797 0.015625)\" xlink:href=\"#DejaVuSans-Oblique-6b\"/>\n      <use transform=\"translate(383.251953 -16.390625)scale(0.7)\" xlink:href=\"#DejaVuSans-Oblique-74\"/>\n     </g>\n    </g>\n    <g id=\"line2d_40\">\n     <path d=\"M 35.925 54.278125 \nL 55.925 54.278125 \n\" style=\"fill:none;stroke:#ff0000;stroke-linecap:square;stroke-width:1.5;\"/>\n    </g>\n    <g id=\"line2d_41\"/>\n    <g id=\"text_20\">\n     <!-- $sAk_t^{α}$ -->\n     <defs>\n      <path d=\"M 50 53.078125 \nL 48.296875 44.578125 \nQ 44.734375 46.53125 40.765625 47.5 \nQ 36.8125 48.484375 32.625 48.484375 \nQ 25.53125 48.484375 21.453125 46.0625 \nQ 17.390625 43.65625 17.390625 39.5 \nQ 17.390625 34.671875 26.859375 32.078125 \nQ 27.59375 31.890625 27.9375 31.78125 \nL 30.8125 30.90625 \nQ 39.796875 28.421875 42.796875 25.6875 \nQ 45.796875 22.953125 45.796875 18.21875 \nQ 45.796875 9.515625 38.890625 4.046875 \nQ 31.984375 -1.421875 20.796875 -1.421875 \nQ 16.453125 -1.421875 11.671875 -0.578125 \nQ 6.890625 0.25 1.125 2 \nL 2.875 11.28125 \nQ 7.8125 8.734375 12.59375 7.421875 \nQ 17.390625 6.109375 21.78125 6.109375 \nQ 28.375 6.109375 32.5 8.9375 \nQ 36.625 11.765625 36.625 16.109375 \nQ 36.625 20.796875 25.78125 23.6875 \nL 24.859375 23.921875 \nL 21.78125 24.703125 \nQ 14.9375 26.515625 11.765625 29.46875 \nQ 8.59375 32.421875 8.59375 37.015625 \nQ 8.59375 45.75 15.15625 50.875 \nQ 21.734375 56 33.015625 56 \nQ 37.453125 56 41.671875 55.265625 \nQ 45.90625 54.546875 50 53.078125 \nz\n\" id=\"DejaVuSans-Oblique-73\"/>\n     </defs>\n     <g transform=\"translate(63.925 57.778125)scale(0.1 -0.1)\">\n      <use transform=\"translate(0 0.409375)\" xlink:href=\"#DejaVuSans-Oblique-73\"/>\n      <use transform=\"translate(52.099609 0.409375)\" xlink:href=\"#DejaVuSans-Oblique-41\"/>\n      <use transform=\"translate(120.507812 0.409375)\" xlink:href=\"#DejaVuSans-Oblique-6b\"/>\n      <use transform=\"translate(185.865677 38.690625)scale(0.7)\" xlink:href=\"#DejaVuSans-Oblique-3b1\"/>\n      <use transform=\"translate(178.417969 -26.934375)scale(0.7)\" xlink:href=\"#DejaVuSans-Oblique-74\"/>\n     </g>\n    </g>\n   </g>\n  </g>\n </g>\n <defs>\n  <clipPath id=\"p62a206f418\">\n   <rect height=\"271.8\" width=\"279\" x=\"26.925\" y=\"10.7\"/>\n  </clipPath>\n </defs>\n</svg>\n",
      "image/png": "[encoded data removed]"
     },
     "metadata": {
      "needs_background": "light"
     }
    }
   ],
   "source": [
    "solow_graph_1(0.1,0.05,0.02,1,0.4,0.33,200)"
   ]
  },
  {
   "cell_type": "code",
   "execution_count": 186,
   "metadata": {},
   "outputs": [],
   "source": [
    "def solow_equation(k, delta, n, A, s, alpha):\n",
    "\n",
    "    savings = s *A* k ** alpha\n",
    "    depreciation = delta * k\n",
    "    k_extended =  (savings - depreciation)/(1+n)\n",
    "    return k_extended, savings, depreciation\n",
    "\n",
    "\n",
    "def solow_graph_2(k_0,delta,n,A,s,alpha,t):\n",
    "\n",
    "    kvec = [k_0]\n",
    "        # savings path\n",
    "    svec = []\n",
    "        # depreciation path\n",
    "    deltavec = []\n",
    "\n",
    "        \n",
    "    for t in range(1, t):\n",
    "\n",
    "        k_extended, savings, depreciation = solow_equation(kvec[t - 1], delta,n,A, s, alpha)\n",
    "\n",
    "        kvec.append(k_extended)\n",
    "        svec.append(savings)\n",
    "        deltavec.append(depreciation)\n",
    "    \n",
    "\n",
    "    plt.figure(figsize=(5,5))\n",
    "    plt.plot(kvec[:t], label='$Ak_t^{\\u03B1}$', color = 'blue')\n",
    "    plt.plot(deltavec[:t], label = '$(n+\\delta)k_t$', color = 'black')\n",
    "    plt.plot(svec[:t], label = '$sAk_t^{\\u03B1}$', color = 'red')\n",
    "    plt.xlim(0,t)\n",
    "    plt.ylim(0,0.5)\n",
    "    plt.xlabel('$k_t$')\n",
    "    plt.grid(True)\n",
    "    plt.legend()\n",
    "    return plt.show()\n"
   ]
  },
  {
   "cell_type": "code",
   "execution_count": 184,
   "metadata": {},
   "outputs": [
    {
     "output_type": "display_data",
     "data": {
      "text/plain": "<Figure size 360x360 with 1 Axes>",
      "image/svg+xml": "<?xml version=\"1.0\" encoding=\"utf-8\" standalone=\"no\"?>\n<!DOCTYPE svg PUBLIC \"-//W3C//DTD SVG 1.1//EN\"\n  \"http://www.w3.org/Graphics/SVG/1.1/DTD/svg11.dtd\">\n<!-- Created with matplotlib (http://matplotlib.org/) -->\n<svg height=\"320.355469pt\" version=\"1.1\" viewBox=\"0 0 319.803125 320.355469\" width=\"319.803125pt\" xmlns=\"http://www.w3.org/2000/svg\" xmlns:xlink=\"http://www.w3.org/1999/xlink\">\n <defs>\n  <style type=\"text/css\">\n*{stroke-linecap:butt;stroke-linejoin:round;}\n  </style>\n </defs>\n <g id=\"figure_1\">\n  <g id=\"patch_1\">\n   <path d=\"M 0 320.355469 \nL 319.803125 320.355469 \nL 319.803125 0 \nL 0 0 \nz\n\" style=\"fill:none;\"/>\n  </g>\n  <g id=\"axes_1\">\n   <g id=\"patch_2\">\n    <path d=\"M 30.103125 282.799219 \nL 309.103125 282.799219 \nL 309.103125 10.999219 \nL 30.103125 10.999219 \nz\n\" style=\"fill:#ffffff;\"/>\n   </g>\n   <g id=\"matplotlib.axis_1\">\n    <g id=\"xtick_1\">\n     <g id=\"line2d_1\">\n      <path clip-path=\"url(#pe18615089f)\" d=\"M 30.103125 282.799219 \nL 30.103125 10.999219 \n\" style=\"fill:none;stroke:#b0b0b0;stroke-linecap:square;stroke-width:0.8;\"/>\n     </g>\n     <g id=\"line2d_2\">\n      <defs>\n       <path d=\"M 0 0 \nL 0 3.5 \n\" id=\"md5a3365bbb\" style=\"stroke:#000000;stroke-width:0.8;\"/>\n      </defs>\n      <g>\n       <use style=\"stroke:#000000;stroke-width:0.8;\" x=\"30.103125\" xlink:href=\"#md5a3365bbb\" y=\"282.799219\"/>\n      </g>\n     </g>\n     <g id=\"text_1\">\n      <!-- 0 -->\n      <defs>\n       <path d=\"M 31.78125 66.40625 \nQ 24.171875 66.40625 20.328125 58.90625 \nQ 16.5 51.421875 16.5 36.375 \nQ 16.5 21.390625 20.328125 13.890625 \nQ 24.171875 6.390625 31.78125 6.390625 \nQ 39.453125 6.390625 43.28125 13.890625 \nQ 47.125 21.390625 47.125 36.375 \nQ 47.125 51.421875 43.28125 58.90625 \nQ 39.453125 66.40625 31.78125 66.40625 \nz\nM 31.78125 74.21875 \nQ 44.046875 74.21875 50.515625 64.515625 \nQ 56.984375 54.828125 56.984375 36.375 \nQ 56.984375 17.96875 50.515625 8.265625 \nQ 44.046875 -1.421875 31.78125 -1.421875 \nQ 19.53125 -1.421875 13.0625 8.265625 \nQ 6.59375 17.96875 6.59375 36.375 \nQ 6.59375 54.828125 13.0625 64.515625 \nQ 19.53125 74.21875 31.78125 74.21875 \nz\n\" id=\"DejaVuSans-30\"/>\n      </defs>\n      <g transform=\"translate(26.921875 297.397656)scale(0.1 -0.1)\">\n       <use xlink:href=\"#DejaVuSans-30\"/>\n      </g>\n     </g>\n    </g>\n    <g id=\"xtick_2\">\n     <g id=\"line2d_3\">\n      <path clip-path=\"url(#pe18615089f)\" d=\"M 65.153376 282.799219 \nL 65.153376 10.999219 \n\" style=\"fill:none;stroke:#b0b0b0;stroke-linecap:square;stroke-width:0.8;\"/>\n     </g>\n     <g id=\"line2d_4\">\n      <g>\n       <use style=\"stroke:#000000;stroke-width:0.8;\" x=\"65.153376\" xlink:href=\"#md5a3365bbb\" y=\"282.799219\"/>\n      </g>\n     </g>\n     <g id=\"text_2\">\n      <!-- 25 -->\n      <defs>\n       <path d=\"M 19.1875 8.296875 \nL 53.609375 8.296875 \nL 53.609375 0 \nL 7.328125 0 \nL 7.328125 8.296875 \nQ 12.9375 14.109375 22.625 23.890625 \nQ 32.328125 33.6875 34.8125 36.53125 \nQ 39.546875 41.84375 41.421875 45.53125 \nQ 43.3125 49.21875 43.3125 52.78125 \nQ 43.3125 58.59375 39.234375 62.25 \nQ 35.15625 65.921875 28.609375 65.921875 \nQ 23.96875 65.921875 18.8125 64.3125 \nQ 13.671875 62.703125 7.8125 59.421875 \nL 7.8125 69.390625 \nQ 13.765625 71.78125 18.9375 73 \nQ 24.125 74.21875 28.421875 74.21875 \nQ 39.75 74.21875 46.484375 68.546875 \nQ 53.21875 62.890625 53.21875 53.421875 \nQ 53.21875 48.921875 51.53125 44.890625 \nQ 49.859375 40.875 45.40625 35.40625 \nQ 44.1875 33.984375 37.640625 27.21875 \nQ 31.109375 20.453125 19.1875 8.296875 \nz\n\" id=\"DejaVuSans-32\"/>\n       <path d=\"M 10.796875 72.90625 \nL 49.515625 72.90625 \nL 49.515625 64.59375 \nL 19.828125 64.59375 \nL 19.828125 46.734375 \nQ 21.96875 47.46875 24.109375 47.828125 \nQ 26.265625 48.1875 28.421875 48.1875 \nQ 40.625 48.1875 47.75 41.5 \nQ 54.890625 34.8125 54.890625 23.390625 \nQ 54.890625 11.625 47.5625 5.09375 \nQ 40.234375 -1.421875 26.90625 -1.421875 \nQ 22.3125 -1.421875 17.546875 -0.640625 \nQ 12.796875 0.140625 7.71875 1.703125 \nL 7.71875 11.625 \nQ 12.109375 9.234375 16.796875 8.0625 \nQ 21.484375 6.890625 26.703125 6.890625 \nQ 35.15625 6.890625 40.078125 11.328125 \nQ 45.015625 15.765625 45.015625 23.390625 \nQ 45.015625 31 40.078125 35.4375 \nQ 35.15625 39.890625 26.703125 39.890625 \nQ 22.75 39.890625 18.8125 39.015625 \nQ 14.890625 38.140625 10.796875 36.28125 \nz\n\" id=\"DejaVuSans-35\"/>\n      </defs>\n      <g transform=\"translate(58.790876 297.397656)scale(0.1 -0.1)\">\n       <use xlink:href=\"#DejaVuSans-32\"/>\n       <use x=\"63.623047\" xlink:href=\"#DejaVuSans-35\"/>\n      </g>\n     </g>\n    </g>\n    <g id=\"xtick_3\">\n     <g id=\"line2d_5\">\n      <path clip-path=\"url(#pe18615089f)\" d=\"M 100.203628 282.799219 \nL 100.203628 10.999219 \n\" style=\"fill:none;stroke:#b0b0b0;stroke-linecap:square;stroke-width:0.8;\"/>\n     </g>\n     <g id=\"line2d_6\">\n      <g>\n       <use style=\"stroke:#000000;stroke-width:0.8;\" x=\"100.203628\" xlink:href=\"#md5a3365bbb\" y=\"282.799219\"/>\n      </g>\n     </g>\n     <g id=\"text_3\">\n      <!-- 50 -->\n      <g transform=\"translate(93.841128 297.397656)scale(0.1 -0.1)\">\n       <use xlink:href=\"#DejaVuSans-35\"/>\n       <use x=\"63.623047\" xlink:href=\"#DejaVuSans-30\"/>\n      </g>\n     </g>\n    </g>\n    <g id=\"xtick_4\">\n     <g id=\"line2d_7\">\n      <path clip-path=\"url(#pe18615089f)\" d=\"M 135.253879 282.799219 \nL 135.253879 10.999219 \n\" style=\"fill:none;stroke:#b0b0b0;stroke-linecap:square;stroke-width:0.8;\"/>\n     </g>\n     <g id=\"line2d_8\">\n      <g>\n       <use style=\"stroke:#000000;stroke-width:0.8;\" x=\"135.253879\" xlink:href=\"#md5a3365bbb\" y=\"282.799219\"/>\n      </g>\n     </g>\n     <g id=\"text_4\">\n      <!-- 75 -->\n      <defs>\n       <path d=\"M 8.203125 72.90625 \nL 55.078125 72.90625 \nL 55.078125 68.703125 \nL 28.609375 0 \nL 18.3125 0 \nL 43.21875 64.59375 \nL 8.203125 64.59375 \nz\n\" id=\"DejaVuSans-37\"/>\n      </defs>\n      <g transform=\"translate(128.891379 297.397656)scale(0.1 -0.1)\">\n       <use xlink:href=\"#DejaVuSans-37\"/>\n       <use x=\"63.623047\" xlink:href=\"#DejaVuSans-35\"/>\n      </g>\n     </g>\n    </g>\n    <g id=\"xtick_5\">\n     <g id=\"line2d_9\">\n      <path clip-path=\"url(#pe18615089f)\" d=\"M 170.30413 282.799219 \nL 170.30413 10.999219 \n\" style=\"fill:none;stroke:#b0b0b0;stroke-linecap:square;stroke-width:0.8;\"/>\n     </g>\n     <g id=\"line2d_10\">\n      <g>\n       <use style=\"stroke:#000000;stroke-width:0.8;\" x=\"170.30413\" xlink:href=\"#md5a3365bbb\" y=\"282.799219\"/>\n      </g>\n     </g>\n     <g id=\"text_5\">\n      <!-- 100 -->\n      <defs>\n       <path d=\"M 12.40625 8.296875 \nL 28.515625 8.296875 \nL 28.515625 63.921875 \nL 10.984375 60.40625 \nL 10.984375 69.390625 \nL 28.421875 72.90625 \nL 38.28125 72.90625 \nL 38.28125 8.296875 \nL 54.390625 8.296875 \nL 54.390625 0 \nL 12.40625 0 \nz\n\" id=\"DejaVuSans-31\"/>\n      </defs>\n      <g transform=\"translate(160.76038 297.397656)scale(0.1 -0.1)\">\n       <use xlink:href=\"#DejaVuSans-31\"/>\n       <use x=\"63.623047\" xlink:href=\"#DejaVuSans-30\"/>\n       <use x=\"127.246094\" xlink:href=\"#DejaVuSans-30\"/>\n      </g>\n     </g>\n    </g>\n    <g id=\"xtick_6\">\n     <g id=\"line2d_11\">\n      <path clip-path=\"url(#pe18615089f)\" d=\"M 205.354381 282.799219 \nL 205.354381 10.999219 \n\" style=\"fill:none;stroke:#b0b0b0;stroke-linecap:square;stroke-width:0.8;\"/>\n     </g>\n     <g id=\"line2d_12\">\n      <g>\n       <use style=\"stroke:#000000;stroke-width:0.8;\" x=\"205.354381\" xlink:href=\"#md5a3365bbb\" y=\"282.799219\"/>\n      </g>\n     </g>\n     <g id=\"text_6\">\n      <!-- 125 -->\n      <g transform=\"translate(195.810631 297.397656)scale(0.1 -0.1)\">\n       <use xlink:href=\"#DejaVuSans-31\"/>\n       <use x=\"63.623047\" xlink:href=\"#DejaVuSans-32\"/>\n       <use x=\"127.246094\" xlink:href=\"#DejaVuSans-35\"/>\n      </g>\n     </g>\n    </g>\n    <g id=\"xtick_7\">\n     <g id=\"line2d_13\">\n      <path clip-path=\"url(#pe18615089f)\" d=\"M 240.404633 282.799219 \nL 240.404633 10.999219 \n\" style=\"fill:none;stroke:#b0b0b0;stroke-linecap:square;stroke-width:0.8;\"/>\n     </g>\n     <g id=\"line2d_14\">\n      <g>\n       <use style=\"stroke:#000000;stroke-width:0.8;\" x=\"240.404633\" xlink:href=\"#md5a3365bbb\" y=\"282.799219\"/>\n      </g>\n     </g>\n     <g id=\"text_7\">\n      <!-- 150 -->\n      <g transform=\"translate(230.860883 297.397656)scale(0.1 -0.1)\">\n       <use xlink:href=\"#DejaVuSans-31\"/>\n       <use x=\"63.623047\" xlink:href=\"#DejaVuSans-35\"/>\n       <use x=\"127.246094\" xlink:href=\"#DejaVuSans-30\"/>\n      </g>\n     </g>\n    </g>\n    <g id=\"xtick_8\">\n     <g id=\"line2d_15\">\n      <path clip-path=\"url(#pe18615089f)\" d=\"M 275.454884 282.799219 \nL 275.454884 10.999219 \n\" style=\"fill:none;stroke:#b0b0b0;stroke-linecap:square;stroke-width:0.8;\"/>\n     </g>\n     <g id=\"line2d_16\">\n      <g>\n       <use style=\"stroke:#000000;stroke-width:0.8;\" x=\"275.454884\" xlink:href=\"#md5a3365bbb\" y=\"282.799219\"/>\n      </g>\n     </g>\n     <g id=\"text_8\">\n      <!-- 175 -->\n      <g transform=\"translate(265.911134 297.397656)scale(0.1 -0.1)\">\n       <use xlink:href=\"#DejaVuSans-31\"/>\n       <use x=\"63.623047\" xlink:href=\"#DejaVuSans-37\"/>\n       <use x=\"127.246094\" xlink:href=\"#DejaVuSans-35\"/>\n      </g>\n     </g>\n    </g>\n    <g id=\"text_9\">\n     <!-- $k_t$ -->\n     <defs>\n      <path d=\"M 18.3125 75.984375 \nL 27.296875 75.984375 \nL 18.703125 31.6875 \nL 49.515625 54.6875 \nL 61.1875 54.6875 \nL 26.8125 28.515625 \nL 51.90625 0 \nL 41.015625 0 \nL 17.671875 26.703125 \nL 12.5 0 \nL 3.515625 0 \nz\n\" id=\"DejaVuSans-Oblique-6b\"/>\n      <path d=\"M 42.28125 54.6875 \nL 40.921875 47.703125 \nL 23 47.703125 \nL 17.1875 18.015625 \nQ 16.890625 16.359375 16.75 15.234375 \nQ 16.609375 14.109375 16.609375 13.484375 \nQ 16.609375 10.359375 18.484375 8.9375 \nQ 20.359375 7.515625 24.515625 7.515625 \nL 33.59375 7.515625 \nL 32.078125 0 \nL 23.484375 0 \nQ 15.484375 0 11.546875 3.125 \nQ 7.625 6.25 7.625 12.59375 \nQ 7.625 13.71875 7.765625 15.0625 \nQ 7.90625 16.40625 8.203125 18.015625 \nL 14.015625 47.703125 \nL 6.390625 47.703125 \nL 7.8125 54.6875 \nL 15.28125 54.6875 \nL 18.3125 70.21875 \nL 27.296875 70.21875 \nL 24.3125 54.6875 \nz\n\" id=\"DejaVuSans-Oblique-74\"/>\n     </defs>\n     <g transform=\"translate(165.153125 311.075781)scale(0.1 -0.1)\">\n      <use transform=\"translate(0 0.015625)\" xlink:href=\"#DejaVuSans-Oblique-6b\"/>\n      <use transform=\"translate(57.910156 -16.390625)scale(0.7)\" xlink:href=\"#DejaVuSans-Oblique-74\"/>\n     </g>\n    </g>\n   </g>\n   <g id=\"matplotlib.axis_2\">\n    <g id=\"ytick_1\">\n     <g id=\"line2d_17\">\n      <path clip-path=\"url(#pe18615089f)\" d=\"M 30.103125 282.799219 \nL 309.103125 282.799219 \n\" style=\"fill:none;stroke:#b0b0b0;stroke-linecap:square;stroke-width:0.8;\"/>\n     </g>\n     <g id=\"line2d_18\">\n      <defs>\n       <path d=\"M 0 0 \nL -3.5 0 \n\" id=\"me1e950a964\" style=\"stroke:#000000;stroke-width:0.8;\"/>\n      </defs>\n      <g>\n       <use style=\"stroke:#000000;stroke-width:0.8;\" x=\"30.103125\" xlink:href=\"#me1e950a964\" y=\"282.799219\"/>\n      </g>\n     </g>\n     <g id=\"text_10\">\n      <!-- 0.0 -->\n      <defs>\n       <path d=\"M 10.6875 12.40625 \nL 21 12.40625 \nL 21 0 \nL 10.6875 0 \nz\n\" id=\"DejaVuSans-2e\"/>\n      </defs>\n      <g transform=\"translate(7.2 286.598437)scale(0.1 -0.1)\">\n       <use xlink:href=\"#DejaVuSans-30\"/>\n       <use x=\"63.623047\" xlink:href=\"#DejaVuSans-2e\"/>\n       <use x=\"95.410156\" xlink:href=\"#DejaVuSans-30\"/>\n      </g>\n     </g>\n    </g>\n    <g id=\"ytick_2\">\n     <g id=\"line2d_19\">\n      <path clip-path=\"url(#pe18615089f)\" d=\"M 30.103125 228.439219 \nL 309.103125 228.439219 \n\" style=\"fill:none;stroke:#b0b0b0;stroke-linecap:square;stroke-width:0.8;\"/>\n     </g>\n     <g id=\"line2d_20\">\n      <g>\n       <use style=\"stroke:#000000;stroke-width:0.8;\" x=\"30.103125\" xlink:href=\"#me1e950a964\" y=\"228.439219\"/>\n      </g>\n     </g>\n     <g id=\"text_11\">\n      <!-- 0.1 -->\n      <g transform=\"translate(7.2 232.238437)scale(0.1 -0.1)\">\n       <use xlink:href=\"#DejaVuSans-30\"/>\n       <use x=\"63.623047\" xlink:href=\"#DejaVuSans-2e\"/>\n       <use x=\"95.410156\" xlink:href=\"#DejaVuSans-31\"/>\n      </g>\n     </g>\n    </g>\n    <g id=\"ytick_3\">\n     <g id=\"line2d_21\">\n      <path clip-path=\"url(#pe18615089f)\" d=\"M 30.103125 174.079219 \nL 309.103125 174.079219 \n\" style=\"fill:none;stroke:#b0b0b0;stroke-linecap:square;stroke-width:0.8;\"/>\n     </g>\n     <g id=\"line2d_22\">\n      <g>\n       <use style=\"stroke:#000000;stroke-width:0.8;\" x=\"30.103125\" xlink:href=\"#me1e950a964\" y=\"174.079219\"/>\n      </g>\n     </g>\n     <g id=\"text_12\">\n      <!-- 0.2 -->\n      <g transform=\"translate(7.2 177.878437)scale(0.1 -0.1)\">\n       <use xlink:href=\"#DejaVuSans-30\"/>\n       <use x=\"63.623047\" xlink:href=\"#DejaVuSans-2e\"/>\n       <use x=\"95.410156\" xlink:href=\"#DejaVuSans-32\"/>\n      </g>\n     </g>\n    </g>\n    <g id=\"ytick_4\">\n     <g id=\"line2d_23\">\n      <path clip-path=\"url(#pe18615089f)\" d=\"M 30.103125 119.719219 \nL 309.103125 119.719219 \n\" style=\"fill:none;stroke:#b0b0b0;stroke-linecap:square;stroke-width:0.8;\"/>\n     </g>\n     <g id=\"line2d_24\">\n      <g>\n       <use style=\"stroke:#000000;stroke-width:0.8;\" x=\"30.103125\" xlink:href=\"#me1e950a964\" y=\"119.719219\"/>\n      </g>\n     </g>\n     <g id=\"text_13\">\n      <!-- 0.3 -->\n      <defs>\n       <path d=\"M 40.578125 39.3125 \nQ 47.65625 37.796875 51.625 33 \nQ 55.609375 28.21875 55.609375 21.1875 \nQ 55.609375 10.40625 48.1875 4.484375 \nQ 40.765625 -1.421875 27.09375 -1.421875 \nQ 22.515625 -1.421875 17.65625 -0.515625 \nQ 12.796875 0.390625 7.625 2.203125 \nL 7.625 11.71875 \nQ 11.71875 9.328125 16.59375 8.109375 \nQ 21.484375 6.890625 26.8125 6.890625 \nQ 36.078125 6.890625 40.9375 10.546875 \nQ 45.796875 14.203125 45.796875 21.1875 \nQ 45.796875 27.640625 41.28125 31.265625 \nQ 36.765625 34.90625 28.71875 34.90625 \nL 20.21875 34.90625 \nL 20.21875 43.015625 \nL 29.109375 43.015625 \nQ 36.375 43.015625 40.234375 45.921875 \nQ 44.09375 48.828125 44.09375 54.296875 \nQ 44.09375 59.90625 40.109375 62.90625 \nQ 36.140625 65.921875 28.71875 65.921875 \nQ 24.65625 65.921875 20.015625 65.03125 \nQ 15.375 64.15625 9.8125 62.3125 \nL 9.8125 71.09375 \nQ 15.4375 72.65625 20.34375 73.4375 \nQ 25.25 74.21875 29.59375 74.21875 \nQ 40.828125 74.21875 47.359375 69.109375 \nQ 53.90625 64.015625 53.90625 55.328125 \nQ 53.90625 49.265625 50.4375 45.09375 \nQ 46.96875 40.921875 40.578125 39.3125 \nz\n\" id=\"DejaVuSans-33\"/>\n      </defs>\n      <g transform=\"translate(7.2 123.518437)scale(0.1 -0.1)\">\n       <use xlink:href=\"#DejaVuSans-30\"/>\n       <use x=\"63.623047\" xlink:href=\"#DejaVuSans-2e\"/>\n       <use x=\"95.410156\" xlink:href=\"#DejaVuSans-33\"/>\n      </g>\n     </g>\n    </g>\n    <g id=\"ytick_5\">\n     <g id=\"line2d_25\">\n      <path clip-path=\"url(#pe18615089f)\" d=\"M 30.103125 65.359219 \nL 309.103125 65.359219 \n\" style=\"fill:none;stroke:#b0b0b0;stroke-linecap:square;stroke-width:0.8;\"/>\n     </g>\n     <g id=\"line2d_26\">\n      <g>\n       <use style=\"stroke:#000000;stroke-width:0.8;\" x=\"30.103125\" xlink:href=\"#me1e950a964\" y=\"65.359219\"/>\n      </g>\n     </g>\n     <g id=\"text_14\">\n      <!-- 0.4 -->\n      <defs>\n       <path d=\"M 37.796875 64.3125 \nL 12.890625 25.390625 \nL 37.796875 25.390625 \nz\nM 35.203125 72.90625 \nL 47.609375 72.90625 \nL 47.609375 25.390625 \nL 58.015625 25.390625 \nL 58.015625 17.1875 \nL 47.609375 17.1875 \nL 47.609375 0 \nL 37.796875 0 \nL 37.796875 17.1875 \nL 4.890625 17.1875 \nL 4.890625 26.703125 \nz\n\" id=\"DejaVuSans-34\"/>\n      </defs>\n      <g transform=\"translate(7.2 69.158437)scale(0.1 -0.1)\">\n       <use xlink:href=\"#DejaVuSans-30\"/>\n       <use x=\"63.623047\" xlink:href=\"#DejaVuSans-2e\"/>\n       <use x=\"95.410156\" xlink:href=\"#DejaVuSans-34\"/>\n      </g>\n     </g>\n    </g>\n    <g id=\"ytick_6\">\n     <g id=\"line2d_27\">\n      <path clip-path=\"url(#pe18615089f)\" d=\"M 30.103125 10.999219 \nL 309.103125 10.999219 \n\" style=\"fill:none;stroke:#b0b0b0;stroke-linecap:square;stroke-width:0.8;\"/>\n     </g>\n     <g id=\"line2d_28\">\n      <g>\n       <use style=\"stroke:#000000;stroke-width:0.8;\" x=\"30.103125\" xlink:href=\"#me1e950a964\" y=\"10.999219\"/>\n      </g>\n     </g>\n     <g id=\"text_15\">\n      <!-- 0.5 -->\n      <g transform=\"translate(7.2 14.798438)scale(0.1 -0.1)\">\n       <use xlink:href=\"#DejaVuSans-30\"/>\n       <use x=\"63.623047\" xlink:href=\"#DejaVuSans-2e\"/>\n       <use x=\"95.410156\" xlink:href=\"#DejaVuSans-35\"/>\n      </g>\n     </g>\n    </g>\n   </g>\n   <g id=\"line2d_29\">\n    <path clip-path=\"url(#pe18615089f)\" d=\"M 30.103125 228.439219 \nL 31.505135 185.753798 \nL 32.907145 166.830902 \nL 34.309155 160.448843 \nL 35.711165 158.478067 \nL 37.113175 157.885667 \nL 38.515185 157.709028 \nL 42.721215 157.636225 \nL 156.28403 157.634262 \nL 307.701115 157.634262 \nL 307.701115 157.634262 \n\" style=\"fill:none;stroke:#0000ff;stroke-linecap:square;stroke-width:1.5;\"/>\n   </g>\n   <g id=\"line2d_30\">\n    <path clip-path=\"url(#pe18615089f)\" d=\"M 30.103125 280.081219 \nL 31.505135 277.946948 \nL 32.907145 277.000803 \nL 34.309155 276.6817 \nL 37.113175 276.553541 \nL 56.741316 276.540971 \nL 307.701115 276.540971 \nL 307.701115 276.540971 \n\" style=\"fill:none;stroke:#000000;stroke-linecap:square;stroke-width:1.5;\"/>\n   </g>\n   <g id=\"line2d_31\">\n    <path clip-path=\"url(#pe18615089f)\" d=\"M 30.103125 181.09489 \nL 31.505135 159.659265 \nL 32.907145 152.203419 \nL 34.309155 149.874126 \nL 35.711165 149.171338 \nL 37.113175 148.961546 \nL 41.319205 148.875047 \nL 138.057899 148.872716 \nL 307.701115 148.872716 \nL 307.701115 148.872716 \n\" style=\"fill:none;stroke:#ff0000;stroke-linecap:square;stroke-width:1.5;\"/>\n   </g>\n   <g id=\"patch_3\">\n    <path d=\"M 30.103125 282.799219 \nL 30.103125 10.999219 \n\" style=\"fill:none;stroke:#000000;stroke-linecap:square;stroke-linejoin:miter;stroke-width:0.8;\"/>\n   </g>\n   <g id=\"patch_4\">\n    <path d=\"M 309.103125 282.799219 \nL 309.103125 10.999219 \n\" style=\"fill:none;stroke:#000000;stroke-linecap:square;stroke-linejoin:miter;stroke-width:0.8;\"/>\n   </g>\n   <g id=\"patch_5\">\n    <path d=\"M 30.103125 282.799219 \nL 309.103125 282.799219 \n\" style=\"fill:none;stroke:#000000;stroke-linecap:square;stroke-linejoin:miter;stroke-width:0.8;\"/>\n   </g>\n   <g id=\"patch_6\">\n    <path d=\"M 30.103125 10.999219 \nL 309.103125 10.999219 \n\" style=\"fill:none;stroke:#000000;stroke-linecap:square;stroke-linejoin:miter;stroke-width:0.8;\"/>\n   </g>\n   <g id=\"legend_1\">\n    <g id=\"patch_7\">\n     <path d=\"M 228.703125 64.877344 \nL 302.103125 64.877344 \nQ 304.103125 64.877344 304.103125 62.877344 \nL 304.103125 17.999219 \nQ 304.103125 15.999219 302.103125 15.999219 \nL 228.703125 15.999219 \nQ 226.703125 15.999219 226.703125 17.999219 \nL 226.703125 62.877344 \nQ 226.703125 64.877344 228.703125 64.877344 \nz\n\" style=\"fill:#ffffff;opacity:0.8;stroke:#cccccc;stroke-linejoin:miter;\"/>\n    </g>\n    <g id=\"line2d_32\">\n     <path d=\"M 230.703125 24.299219 \nL 250.703125 24.299219 \n\" style=\"fill:none;stroke:#0000ff;stroke-linecap:square;stroke-width:1.5;\"/>\n    </g>\n    <g id=\"line2d_33\"/>\n    <g id=\"text_16\">\n     <!-- $Ak_t^{α}$ -->\n     <defs>\n      <path d=\"M 36.8125 72.90625 \nL 48 72.90625 \nL 61.53125 0 \nL 51.21875 0 \nL 48.1875 18.703125 \nL 15.375 18.703125 \nL 5.078125 0 \nL -5.328125 0 \nz\nM 40.375 63.1875 \nL 19.921875 26.90625 \nL 46.6875 26.90625 \nz\n\" id=\"DejaVuSans-Oblique-41\"/>\n      <path d=\"M 40.921875 25.4375 \nL 40.96875 36.71875 \nQ 41.015625 48.25 32.328125 48.296875 \nQ 25.828125 48.34375 21.78125 42.921875 \nQ 16.703125 36.234375 14.984375 27.296875 \nQ 12.890625 16.546875 15.53125 11.421875 \nQ 18.265625 6.203125 24.171875 6.203125 \nQ 30.71875 6.203125 36.234375 16.609375 \nz\nM 33.84375 55.90625 \nQ 49.078125 56.15625 48.875 40.375 \nQ 48.875 40.375 56.5 54.6875 \nL 64.5 54.6875 \nL 48.734375 25.046875 \nL 48.578125 14.359375 \nQ 48.578125 11.96875 49.90625 9.96875 \nQ 51.421875 7.625 52.984375 7.625 \nL 57.328125 7.625 \nL 55.859375 0 \nL 50.4375 0 \nQ 45.84375 0 42.53125 4.109375 \nQ 40.96875 6.15625 40.921875 10.453125 \nQ 37.75 5.21875 32.28125 0.78125 \nQ 29.6875 -1.265625 22.703125 -1.21875 \nQ 11.28125 -1.125 7.125 6.203125 \nQ 2.875 13.8125 5.515625 27.296875 \nQ 8.34375 41.796875 15.765625 48.390625 \nQ 24.125 55.765625 33.84375 55.90625 \nz\n\" id=\"DejaVuSans-Oblique-3b1\"/>\n     </defs>\n     <g transform=\"translate(258.703125 27.799219)scale(0.1 -0.1)\">\n      <use transform=\"translate(0 0.409375)\" xlink:href=\"#DejaVuSans-Oblique-41\"/>\n      <use transform=\"translate(68.408203 0.409375)\" xlink:href=\"#DejaVuSans-Oblique-6b\"/>\n      <use transform=\"translate(133.766068 38.690625)scale(0.7)\" xlink:href=\"#DejaVuSans-Oblique-3b1\"/>\n      <use transform=\"translate(126.318359 -26.934375)scale(0.7)\" xlink:href=\"#DejaVuSans-Oblique-74\"/>\n     </g>\n    </g>\n    <g id=\"line2d_34\">\n     <path d=\"M 230.703125 39.697656 \nL 250.703125 39.697656 \n\" style=\"fill:none;stroke:#000000;stroke-linecap:square;stroke-width:1.5;\"/>\n    </g>\n    <g id=\"line2d_35\"/>\n    <g id=\"text_17\">\n     <!-- $(n+\\delta)k_t$ -->\n     <defs>\n      <path d=\"M 31 75.875 \nQ 24.46875 64.65625 21.28125 53.65625 \nQ 18.109375 42.671875 18.109375 31.390625 \nQ 18.109375 20.125 21.3125 9.0625 \nQ 24.515625 -2 31 -13.1875 \nL 23.1875 -13.1875 \nQ 15.875 -1.703125 12.234375 9.375 \nQ 8.59375 20.453125 8.59375 31.390625 \nQ 8.59375 42.28125 12.203125 53.3125 \nQ 15.828125 64.359375 23.1875 75.875 \nz\n\" id=\"DejaVuSans-28\"/>\n      <path d=\"M 55.71875 33.015625 \nL 49.3125 0 \nL 40.28125 0 \nL 46.6875 32.671875 \nQ 47.125 34.96875 47.359375 36.71875 \nQ 47.609375 38.484375 47.609375 39.5 \nQ 47.609375 43.609375 45.015625 45.890625 \nQ 42.4375 48.1875 37.796875 48.1875 \nQ 30.5625 48.1875 25.34375 43.375 \nQ 20.125 38.578125 18.5 30.328125 \nL 12.5 0 \nL 3.515625 0 \nL 14.109375 54.6875 \nL 23.09375 54.6875 \nL 21.296875 46.09375 \nQ 25.046875 50.828125 30.3125 53.40625 \nQ 35.59375 56 41.40625 56 \nQ 48.640625 56 52.609375 52.09375 \nQ 56.59375 48.1875 56.59375 41.109375 \nQ 56.59375 39.359375 56.375 37.359375 \nQ 56.15625 35.359375 55.71875 33.015625 \nz\n\" id=\"DejaVuSans-Oblique-6e\"/>\n      <path d=\"M 46 62.703125 \nL 46 35.5 \nL 73.1875 35.5 \nL 73.1875 27.203125 \nL 46 27.203125 \nL 46 0 \nL 37.796875 0 \nL 37.796875 27.203125 \nL 10.59375 27.203125 \nL 10.59375 35.5 \nL 37.796875 35.5 \nL 37.796875 62.703125 \nz\n\" id=\"DejaVuSans-2b\"/>\n      <path d=\"M 54.25 63.328125 \nQ 49.953125 66.75 38.28125 66.75 \nQ 25.921875 66.75 24.8125 61.03125 \nQ 23.921875 56.546875 36.375 54.203125 \nQ 46.140625 52.390625 50.828125 46.921875 \nQ 56.5 40.328125 53.859375 26.8125 \nQ 51.3125 13.875 43.171875 6.25 \nQ 34.96875 -1.421875 23.25 -1.421875 \nQ 11.578125 -1.421875 6.34375 6.25 \nQ 1.125 13.875 3.765625 27.296875 \nQ 5.671875 37.25 13.921875 45.3125 \nQ 17.140625 48.4375 21.140625 50.203125 \nQ 14.265625 54.046875 15.625 60.9375 \nQ 18.21875 74.21875 39.75 74.21875 \nQ 50.53125 74.21875 55.71875 70.796875 \nz\nM 27.390625 47.75 \nQ 23.828125 46.34375 20.40625 42.78125 \nQ 15.140625 37.25 13.234375 27.296875 \nQ 11.28125 17.390625 14.359375 11.8125 \nQ 17.484375 6.203125 24.75 6.203125 \nQ 31.9375 6.203125 37.203125 11.859375 \nQ 42.53125 17.53125 44.34375 26.8125 \nQ 46.1875 36.53125 42.671875 41.21875 \nQ 38.921875 46.234375 32.859375 46.78125 \nQ 29.78125 47.078125 27.390625 47.75 \nz\n\" id=\"DejaVuSans-Oblique-3b4\"/>\n      <path d=\"M 8.015625 75.875 \nL 15.828125 75.875 \nQ 23.140625 64.359375 26.78125 53.3125 \nQ 30.421875 42.28125 30.421875 31.390625 \nQ 30.421875 20.453125 26.78125 9.375 \nQ 23.140625 -1.703125 15.828125 -13.1875 \nL 8.015625 -13.1875 \nQ 14.5 -2 17.703125 9.0625 \nQ 20.90625 20.125 20.90625 31.390625 \nQ 20.90625 42.671875 17.703125 53.65625 \nQ 14.5 64.65625 8.015625 75.875 \nz\n\" id=\"DejaVuSans-29\"/>\n     </defs>\n     <g transform=\"translate(258.703125 43.197656)scale(0.1 -0.1)\">\n      <use transform=\"translate(0 0.015625)\" xlink:href=\"#DejaVuSans-28\"/>\n      <use transform=\"translate(39.013672 0.015625)\" xlink:href=\"#DejaVuSans-Oblique-6e\"/>\n      <use transform=\"translate(121.875 0.015625)\" xlink:href=\"#DejaVuSans-2b\"/>\n      <use transform=\"translate(225.146484 0.015625)\" xlink:href=\"#DejaVuSans-Oblique-3b4\"/>\n      <use transform=\"translate(286.328125 0.015625)\" xlink:href=\"#DejaVuSans-29\"/>\n      <use transform=\"translate(325.341797 0.015625)\" xlink:href=\"#DejaVuSans-Oblique-6b\"/>\n      <use transform=\"translate(383.251953 -16.390625)scale(0.7)\" xlink:href=\"#DejaVuSans-Oblique-74\"/>\n     </g>\n    </g>\n    <g id=\"line2d_36\">\n     <path d=\"M 230.703125 54.577344 \nL 250.703125 54.577344 \n\" style=\"fill:none;stroke:#ff0000;stroke-linecap:square;stroke-width:1.5;\"/>\n    </g>\n    <g id=\"line2d_37\"/>\n    <g id=\"text_18\">\n     <!-- $sAk_t^{α}$ -->\n     <defs>\n      <path d=\"M 50 53.078125 \nL 48.296875 44.578125 \nQ 44.734375 46.53125 40.765625 47.5 \nQ 36.8125 48.484375 32.625 48.484375 \nQ 25.53125 48.484375 21.453125 46.0625 \nQ 17.390625 43.65625 17.390625 39.5 \nQ 17.390625 34.671875 26.859375 32.078125 \nQ 27.59375 31.890625 27.9375 31.78125 \nL 30.8125 30.90625 \nQ 39.796875 28.421875 42.796875 25.6875 \nQ 45.796875 22.953125 45.796875 18.21875 \nQ 45.796875 9.515625 38.890625 4.046875 \nQ 31.984375 -1.421875 20.796875 -1.421875 \nQ 16.453125 -1.421875 11.671875 -0.578125 \nQ 6.890625 0.25 1.125 2 \nL 2.875 11.28125 \nQ 7.8125 8.734375 12.59375 7.421875 \nQ 17.390625 6.109375 21.78125 6.109375 \nQ 28.375 6.109375 32.5 8.9375 \nQ 36.625 11.765625 36.625 16.109375 \nQ 36.625 20.796875 25.78125 23.6875 \nL 24.859375 23.921875 \nL 21.78125 24.703125 \nQ 14.9375 26.515625 11.765625 29.46875 \nQ 8.59375 32.421875 8.59375 37.015625 \nQ 8.59375 45.75 15.15625 50.875 \nQ 21.734375 56 33.015625 56 \nQ 37.453125 56 41.671875 55.265625 \nQ 45.90625 54.546875 50 53.078125 \nz\n\" id=\"DejaVuSans-Oblique-73\"/>\n     </defs>\n     <g transform=\"translate(258.703125 58.077344)scale(0.1 -0.1)\">\n      <use transform=\"translate(0 0.409375)\" xlink:href=\"#DejaVuSans-Oblique-73\"/>\n      <use transform=\"translate(52.099609 0.409375)\" xlink:href=\"#DejaVuSans-Oblique-41\"/>\n      <use transform=\"translate(120.507812 0.409375)\" xlink:href=\"#DejaVuSans-Oblique-6b\"/>\n      <use transform=\"translate(185.865677 38.690625)scale(0.7)\" xlink:href=\"#DejaVuSans-Oblique-3b1\"/>\n      <use transform=\"translate(178.417969 -26.934375)scale(0.7)\" xlink:href=\"#DejaVuSans-Oblique-74\"/>\n     </g>\n    </g>\n   </g>\n  </g>\n </g>\n <defs>\n  <clipPath id=\"pe18615089f\">\n   <rect height=\"271.8\" width=\"279\" x=\"30.103125\" y=\"10.999219\"/>\n  </clipPath>\n </defs>\n</svg>\n",
      "image/png": "[encoded data removed]"
     },
     "metadata": {
      "needs_background": "light"
     }
    }
   ],
   "source": [
    "#kvec()\n",
    "solow_graph_2(0.1,0.05,0.02,1,0.4,0.33,200)\n"
   ]
  },
  {
   "cell_type": "code",
   "execution_count": 85,
   "metadata": {},
   "outputs": [
    {
     "output_type": "stream",
     "name": "stdout",
     "text": "[1, 1.15, 2.201402674904366, 3.2373955304369706, 4.266016524745351, 5.290165368616785, 6.311260025537067, 7.3301126726468375, 8.347236998174814, 9.362980954575736, 10.377592417900445, 11.391254941288128, 12.404108683780189, 13.416263373898072, 14.427806713342312, 15.438810032749542, 16.449332219560645, 17.45942251981927, 18.469122583324495, 19.47846798674529, 20.487489388144986, 21.49621341590576, 22.50466336277302, 23.51285973457709, 24.520820688998203, 25.528562390030967, 26.53609929703955, 27.5434444025033, 28.550609429107602, 29.557604994323587, 30.564440748766625, 31.571125493239066, 32.577667278317406, 33.58407348954718, 34.59035092069544, 35.596505837034115, 36.60254403025522, 37.6084708663243, 38.61429132734546, 39.62001004832384, 40.62563134956181, 41.63115926530262, 42.636597569136796, 43.64194979660477, 44.64721926536294, 45.65240909322484, 46.65752221434322, 47.662561393760704, 48.66752924052451, 49.672428219533614, 50.67726066226424, 51.68202877649999, 52.68673465517656, 53.691380284437045, 54.69596755098177, 55.700498248786275, 56.70497408525218, 57.70939668684811, 58.71376760429101, 59.71808831731265, 60.72236023905086, 61.726584720100846, 62.73076305225798, 63.73489647198013, 64.73898616359469, 65.74303326227272, 66.74703885679054, 67.75100399209678, 68.75492967170153, 69.75881685990198, 70.76266648385831, 71.76647943553165, 72.77025657349517, 73.77399872462824, 74.77770668570263, 75.78138122486915, 76.7850230830521, 77.78863297525827, 78.79221159180709, 79.79575959948725, 80.79927764264542, 81.80276634421143, 82.80622630666485, 83.80965811294652, 84.81306232731913, 85.81643949618008, 86.81979014882985, 87.8231147981989, 88.8264139415355, 89.82968806105742, 90.83293762456937, 91.83616308604864, 92.83936488620073, 93.84254345298683, 94.84569920212512, 95.84883253756692, 96.8519438519498, 97.8550335270286, 98.85810193408574, 99.86114943432217]\n"
    }
   ],
   "source": [
    "def solow_graph(k,delta,n,A,s,alpha,t):\n",
    "    # array of k values\n",
    "    kvec = [k]\n",
    "    # savings path\n",
    "    svec = []\n",
    "    # depreciation path\n",
    "    deltavec = []\n",
    "\n",
    "\n",
    "    for t_ in range(1,t):\n",
    "        savings = s*A*t_**alpha\n",
    "        k_extended = t_ + savings - delta\n",
    "        depreciation_path = (delta+n)*t_\n",
    "        svec.append(savings)\n",
    "        kvec.append(k_extended)\n",
    "        deltavec.append(depreciation_path)\n",
    "    return kvec \n",
    "\n",
    "print(solow_graph(1,0.05,0.02,1,0.2,0.33,100))"
   ]
  },
  {
   "cell_type": "code",
   "execution_count": 86,
   "metadata": {},
   "outputs": [
    {
     "output_type": "error",
     "ename": "NameError",
     "evalue": "name 'svec' is not defined",
     "traceback": [
      "\u001b[0;31m---------------------------------------------------------------------------\u001b[0m",
      "\u001b[0;31mNameError\u001b[0m                                 Traceback (most recent call last)",
      "\u001b[0;32m<ipython-input-86-3375a2e7d99c>\u001b[0m in \u001b[0;36m<module>\u001b[0;34m\u001b[0m\n\u001b[0;32m----> 1\u001b[0;31m \u001b[0mprint\u001b[0m\u001b[0;34m(\u001b[0m\u001b[0msvec\u001b[0m\u001b[0;34m)\u001b[0m\u001b[0;34m\u001b[0m\u001b[0;34m\u001b[0m\u001b[0m\n\u001b[0m",
      "\u001b[0;31mNameError\u001b[0m: name 'svec' is not defined"
     ]
    }
   ],
   "source": [
    "print(svec)"
   ]
  },
  {
   "cell_type": "code",
   "execution_count": null,
   "metadata": {},
   "outputs": [],
   "source": []
  },
  {
   "cell_type": "code",
   "execution_count": null,
   "metadata": {},
   "outputs": [],
   "source": []
  }
 ],
 "metadata": {
  "kernelspec": {
   "display_name": "Python 3",
   "language": "python",
   "name": "python3"
  },
  "language_info": {
   "codemirror_mode": {
    "name": "ipython",
    "version": 3
   },
   "file_extension": ".py",
   "mimetype": "text/x-python",
   "name": "python",
   "nbconvert_exporter": "python",
   "pygments_lexer": "ipython3",
   "version": "3.7.4-final"
  },
  "toc-autonumbering": true
 },
 "nbformat": 4,
 "nbformat_minor": 4
}